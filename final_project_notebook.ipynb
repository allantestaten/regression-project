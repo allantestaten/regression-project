{
 "cells": [
  {
   "cell_type": "code",
   "execution_count": 1,
   "id": "95313f75",
   "metadata": {},
   "outputs": [],
   "source": [
    "import numpy as np\n",
    "import pandas as pd\n",
    "import matplotlib.pyplot as plt\n",
    "import seaborn as sns\n",
    "from pathlib import Path \n",
    "import scipy.stats as stats\n",
    "import math\n",
    "import sklearn.preprocessing\n",
    "\n",
    "# modeling methods\n",
    "from sklearn.metrics import mean_squared_error\n",
    "from sklearn.linear_model import LinearRegression, LassoLars, TweedieRegressor\n",
    "from sklearn.preprocessing import PolynomialFeatures\n",
    "\n",
    "# train test split from sklearn\n",
    "from sklearn.model_selection import train_test_split\n",
    "# imputer from sklearn\n",
    "from sklearn.impute import SimpleImputer\n",
    "from sklearn.preprocessing import MinMaxScaler, StandardScaler, RobustScaler, QuantileTransformer\n",
    "\n",
    "import acquire \n",
    "import explore as e\n",
    "import wrangle as w\n",
    "import regression_models as m\n",
    "a = .05"
   ]
  },
  {
   "cell_type": "markdown",
   "id": "e73cd7c0",
   "metadata": {},
   "source": [
    "# Acquire\n",
    "\n",
    "* I acquired this data from the Codeup database using mySQL workbench\n",
    "* Each observation or row provides a value or description of a home\n",
    "* Each column represents a feature of the property\n",
    "* I acquired this data on Wednesday November 15th "
   ]
  },
  {
   "cell_type": "markdown",
   "id": "70550711",
   "metadata": {},
   "source": [
    "# Prepare\n",
    "\n",
    "* Removed null values with query from mySQL and single family property specifications\n",
    "* Split data into train, validate and test(approx. 50/30/20)\n",
    "* Based on data from United States Census bureau limited home square footage to 2,500\n",
    "* Converted fips numeric value to string value \n",
    "* Encoded Fips location strings into ones and zeros\n",
    "* Renamed multiple columns : bedrooms, bathrooms, complete square footage \n",
    "\n",
    " "
   ]
  },
  {
   "cell_type": "markdown",
   "id": "ff645029",
   "metadata": {},
   "source": [
    "## Data Dictionary\n",
    "| Feature | Definition |\n",
    "|:--------|:-----------|\n",
    "|Beds| Number of bedrooms in the home|\n",
    "|Baths| Number of bathrooms in the home|\n",
    "|sqft| The square footage of the home|\n",
    "|rooms count| Represents the total number of rooms in the home|\n",
    "|fips| The county the property is located in Los Angelese County CA, Ventura CA or Orange County CA|"
   ]
  },
  {
   "cell_type": "code",
   "execution_count": 2,
   "id": "9e98484b",
   "metadata": {},
   "outputs": [],
   "source": [
    "#create, train, validate, test datasets\n",
    "train, validate, test = w.wrangle_zillow()"
   ]
  },
  {
   "cell_type": "markdown",
   "id": "992f5119",
   "metadata": {},
   "source": [
    "### Takeaways\n",
    "\n",
    "- The median property value is 316,213\n",
    "- The mean property value is 376,063\n",
    "- The difference between these values is 59,850"
   ]
  },
  {
   "cell_type": "markdown",
   "id": "faaa0d40",
   "metadata": {},
   "source": [
    "# Exploration of Data"
   ]
  },
  {
   "cell_type": "markdown",
   "id": "6c7d7cb3",
   "metadata": {},
   "source": [
    "### What is the median and mean home price? "
   ]
  },
  {
   "cell_type": "code",
   "execution_count": 3,
   "id": "19012e86",
   "metadata": {
    "scrolled": true
   },
   "outputs": [
    {
     "name": "stdout",
     "output_type": "stream",
     "text": [
      "Metric         Value\n",
      "----------  --------\n",
      "Median      316213\n",
      "Mean        376063\n",
      "Difference   59850.4\n"
     ]
    }
   ],
   "source": [
    "# Mean compared to Median \n",
    "e.statistic_table(train)"
   ]
  },
  {
   "cell_type": "markdown",
   "id": "b3225e9e",
   "metadata": {},
   "source": [
    "### Takeaways\n",
    "\n",
    "- The median property value is 316,213\n",
    "- The mean property value is 376,063\n",
    "- The difference between these values is 59,850"
   ]
  },
  {
   "cell_type": "markdown",
   "id": "55c05bee",
   "metadata": {},
   "source": [
    "# Statistical Questions Section"
   ]
  },
  {
   "cell_type": "markdown",
   "id": "5758f0c0",
   "metadata": {},
   "source": [
    "### Is there a significant difference in mean property value across Los Angeles, Ventura County and Orange County?  "
   ]
  },
  {
   "cell_type": "code",
   "execution_count": 4,
   "id": "04a60889",
   "metadata": {},
   "outputs": [
    {
     "data": {
      "text/plain": [
       "Los Angeles CA       15825\n",
       "Orange County CA      5701\n",
       "Ventura County CA     1851\n",
       "Name: fips, dtype: int64"
      ]
     },
     "execution_count": 4,
     "metadata": {},
     "output_type": "execute_result"
    }
   ],
   "source": [
    "# Count of properties in each County\n",
    "e.value_counts(train)"
   ]
  },
  {
   "cell_type": "code",
   "execution_count": 7,
   "id": "2e273e0e",
   "metadata": {},
   "outputs": [
    {
     "name": "stderr",
     "output_type": "stream",
     "text": [
      "/opt/homebrew/anaconda3/lib/python3.9/site-packages/seaborn/_decorators.py:36: FutureWarning: Pass the following variable as a keyword arg: x. From version 0.12, the only valid positional argument will be `data`, and passing other arguments without an explicit keyword will result in an error or misinterpretation.\n",
      "  warnings.warn(\n"
     ]
    },
    {
     "data": {
      "image/png": "[encoded data removed]",
      "text/plain": [
       "<Figure size 432x288 with 1 Axes>"
      ]
     },
     "metadata": {
      "needs_background": "light"
     },
     "output_type": "display_data"
    }
   ],
   "source": [
    "# creates boxplot of property values\n",
    "e.boxplot(train,\"property_value\", \"Spread of Home Prices\")"
   ]
  },
  {
   "cell_type": "code",
   "execution_count": 8,
   "id": "66b53f7b",
   "metadata": {},
   "outputs": [
    {
     "data": {
      "image/png": "[encoded data removed]",
      "text/plain": [
       "<Figure size 432x288 with 1 Axes>"
      ]
     },
     "metadata": {
      "needs_background": "light"
     },
     "output_type": "display_data"
    }
   ],
   "source": [
    "# creates histogram of properties in counties\n",
    "e.hists(train)"
   ]
  },
  {
   "cell_type": "markdown",
   "id": "ce358d20",
   "metadata": {},
   "source": [
    "### Chart Takeaways \n",
    "- 5x as many homes in los angeles compared to Orange County in train sample\n",
    "- 15x as many homes in Los Angeles compared to Ventura County\n",
    "- Los Angeles has widest spread of property values due to it's outliers\n",
    "- There appears to be a higher frequency of homes being sold in Los Angeles compared to the other counties\n",
    "- Do prices on average have a higher value in Los Angeles compared to the other two counties\n"
   ]
  },
  {
   "cell_type": "markdown",
   "id": "94c088fd",
   "metadata": {},
   "source": [
    "### Hypothesis\n",
    "\n",
    "- Ho: There is no difference in mean property values across Los Angeles County, Ventura County and Orange County<br>\n",
    "- Ha: There is a significant difference in mean property values across Los Angeles County, Ventura County and Orange County"
   ]
  },
  {
   "cell_type": "code",
   "execution_count": 9,
   "id": "fe90b9c0",
   "metadata": {},
   "outputs": [
    {
     "name": "stdout",
     "output_type": "stream",
     "text": [
      "Los Angeles County Property Value Variance = 137423766689.9801\n",
      "Orange County Property Value Variance = 85736846687.3435\n",
      "Ventura County Property Value Variance = 40991959968.3378\n"
     ]
    }
   ],
   "source": [
    "# generating variance for each county's property values\n",
    "e.variances(train)"
   ]
  },
  {
   "cell_type": "code",
   "execution_count": 10,
   "id": "0cbbab9d",
   "metadata": {},
   "outputs": [
    {
     "name": "stdout",
     "output_type": "stream",
     "text": [
      "Kruska Result = 601.2471\n",
      "p = 2.7595841708077645e-131\n"
     ]
    }
   ],
   "source": [
    "# results of statistical test \n",
    "e.stats_property_location(train)"
   ]
  },
  {
   "cell_type": "markdown",
   "id": "d4939acf",
   "metadata": {},
   "source": [
    "### Takeaways \n",
    "- These prices are not normally distributed \n",
    "- Use Kruskal-Wallis test since prices not normally distributed \n",
    "- Variances are not similar \n",
    "- There is a significant difference in the mean property value of the homes across Los Angeles, Ventura and Orange County \n"
   ]
  },
  {
   "cell_type": "markdown",
   "id": "3e331dae",
   "metadata": {},
   "source": [
    "### Is there a correlation between square footage and property value?  "
   ]
  },
  {
   "cell_type": "code",
   "execution_count": 11,
   "id": "a078b05a",
   "metadata": {},
   "outputs": [
    {
     "data": {
      "image/png": "[encoded data removed]",
      "text/plain": [
       "<Figure size 432x288 with 1 Axes>"
      ]
     },
     "metadata": {
      "needs_background": "light"
     },
     "output_type": "display_data"
    }
   ],
   "source": [
    "#visualization of sqft vs property value \n",
    "e.scatter_plot(train)"
   ]
  },
  {
   "cell_type": "markdown",
   "id": "335e4d42",
   "metadata": {},
   "source": [
    "### Chart Takeaways \n",
    "- As home square footage increases there are more outliers in property value"
   ]
  },
  {
   "cell_type": "markdown",
   "id": "c7f24f45",
   "metadata": {},
   "source": [
    "### Hypothesis: \n",
    "\n",
    "**Ho: There is no correlation between home square footage and property value.**<br>\n",
    "**Ha: There is a correlation between home square footage and property value.** "
   ]
  },
  {
   "cell_type": "code",
   "execution_count": 12,
   "id": "2ce0f6a7",
   "metadata": {},
   "outputs": [
    {
     "name": "stdout",
     "output_type": "stream",
     "text": [
      "Correlation Strength = 0.2865\n",
      "p = 0.0\n"
     ]
    }
   ],
   "source": [
    "# Statistc test results\n",
    "e.correlation_stat_test(train,'sqft')"
   ]
  },
  {
   "cell_type": "markdown",
   "id": "f453aa14",
   "metadata": {},
   "source": [
    "### Takeaways\n",
    "- Test is significant and there is a weak positive correlation between home sqft and home price"
   ]
  },
  {
   "cell_type": "markdown",
   "id": "9b9a99d8",
   "metadata": {},
   "source": [
    "### Is there a correlation between the bedrooms  and property value ?  "
   ]
  },
  {
   "cell_type": "code",
   "execution_count": 13,
   "id": "8d16a82a",
   "metadata": {},
   "outputs": [
    {
     "data": {
      "image/png": "[encoded data removed]",
      "text/plain": [
       "<Figure size 432x288 with 1 Axes>"
      ]
     },
     "metadata": {
      "needs_background": "light"
     },
     "output_type": "display_data"
    }
   ],
   "source": [
    "# box plot Bedrooms vs Property value \n",
    "e.two_variable_boxplots(train,'beds','property_value','Beds and Home Value')"
   ]
  },
  {
   "cell_type": "markdown",
   "id": "3166b856",
   "metadata": {},
   "source": [
    "### Takeaways \n",
    "\n",
    "- Most outliers are seen between two and three bedroom homes \n",
    "- Across bedrooms there does not appear to be a major difference in their interquartile range"
   ]
  },
  {
   "cell_type": "markdown",
   "id": "f2560f41",
   "metadata": {},
   "source": [
    "### Hypothesis: \n",
    "\n",
    "**Ho: There is no correlation between number of beds and property value.**<br>\n",
    "**Ha: There is a correlation between number of beds and property value.** \n"
   ]
  },
  {
   "cell_type": "code",
   "execution_count": 14,
   "id": "df4c8e24",
   "metadata": {},
   "outputs": [
    {
     "name": "stdout",
     "output_type": "stream",
     "text": [
      "Correlation Strength = 0.0501\n",
      "p = 1.86139227403694e-14\n"
     ]
    }
   ],
   "source": [
    "# Statistical test results \n",
    "e.correlation_stat_test(train,'beds')"
   ]
  },
  {
   "cell_type": "markdown",
   "id": "94599e2b",
   "metadata": {},
   "source": [
    "### Takeaways \n",
    "- Bedrooms has a weak positive correlation to the property value "
   ]
  },
  {
   "cell_type": "markdown",
   "id": "ded898bd",
   "metadata": {},
   "source": [
    "### Is there a correlation between the bathrooms  and property value ?  "
   ]
  },
  {
   "cell_type": "code",
   "execution_count": 15,
   "id": "f58035bb",
   "metadata": {},
   "outputs": [
    {
     "data": {
      "image/png": "[encoded data removed]",
      "text/plain": [
       "<Figure size 432x288 with 1 Axes>"
      ]
     },
     "metadata": {
      "needs_background": "light"
     },
     "output_type": "display_data"
    }
   ],
   "source": [
    "# box plot Bathrooms vs Property value \n",
    "e.two_variable_boxplots(train,'baths','property_value','Beds and Home Value')"
   ]
  },
  {
   "cell_type": "markdown",
   "id": "1b3d650f",
   "metadata": {},
   "source": [
    "### Hypothesis: \n",
    "\n",
    "**Ho: There is no correlation between number of baths and property value.**<br>\n",
    "**Ha: There is a correlation between number of baths and property value.** \n"
   ]
  },
  {
   "cell_type": "code",
   "execution_count": 16,
   "id": "117a5e9f",
   "metadata": {},
   "outputs": [
    {
     "name": "stdout",
     "output_type": "stream",
     "text": [
      "Correlation Strength = 0.2264\n",
      "p = 1.9051176926278047e-269\n"
     ]
    }
   ],
   "source": [
    "# Statistical test results \n",
    "e.correlation_stat_test(train,'baths')"
   ]
  },
  {
   "cell_type": "markdown",
   "id": "26e3b7e4",
   "metadata": {},
   "source": [
    "### Takeaways\n",
    "\n",
    "- There is a weak positive correlation between bathrooms and property value\n",
    "- There are slight differences in the interquartile ranges of the different bathroom counts"
   ]
  },
  {
   "cell_type": "markdown",
   "id": "10f369d5",
   "metadata": {},
   "source": [
    "### Is there a correlation between the room count and property value ?  "
   ]
  },
  {
   "cell_type": "code",
   "execution_count": 17,
   "id": "8ea45b6f",
   "metadata": {},
   "outputs": [
    {
     "data": {
      "text/html": [
       "<div>\n",
       "<style scoped>\n",
       "    .dataframe tbody tr th:only-of-type {\n",
       "        vertical-align: middle;\n",
       "    }\n",
       "\n",
       "    .dataframe tbody tr th {\n",
       "        vertical-align: top;\n",
       "    }\n",
       "\n",
       "    .dataframe thead th {\n",
       "        text-align: right;\n",
       "    }\n",
       "</style>\n",
       "<table border=\"1\" class=\"dataframe\">\n",
       "  <thead>\n",
       "    <tr style=\"text-align: right;\">\n",
       "      <th></th>\n",
       "      <th>index</th>\n",
       "      <th>beds</th>\n",
       "      <th>baths</th>\n",
       "      <th>fips</th>\n",
       "      <th>sqft</th>\n",
       "      <th>property_value</th>\n",
       "      <th>fips_Orange County CA</th>\n",
       "      <th>fips_Ventura County CA</th>\n",
       "      <th>rooms_count</th>\n",
       "    </tr>\n",
       "  </thead>\n",
       "  <tbody>\n",
       "    <tr>\n",
       "      <th>0</th>\n",
       "      <td>40577</td>\n",
       "      <td>3.0</td>\n",
       "      <td>2.0</td>\n",
       "      <td>Los Angeles CA</td>\n",
       "      <td>1290.0</td>\n",
       "      <td>443206.0</td>\n",
       "      <td>0</td>\n",
       "      <td>0</td>\n",
       "      <td>5.0</td>\n",
       "    </tr>\n",
       "    <tr>\n",
       "      <th>1</th>\n",
       "      <td>31790</td>\n",
       "      <td>3.0</td>\n",
       "      <td>1.0</td>\n",
       "      <td>Los Angeles CA</td>\n",
       "      <td>1441.0</td>\n",
       "      <td>446001.0</td>\n",
       "      <td>0</td>\n",
       "      <td>0</td>\n",
       "      <td>4.0</td>\n",
       "    </tr>\n",
       "    <tr>\n",
       "      <th>2</th>\n",
       "      <td>28080</td>\n",
       "      <td>2.0</td>\n",
       "      <td>1.0</td>\n",
       "      <td>Los Angeles CA</td>\n",
       "      <td>1259.0</td>\n",
       "      <td>130785.0</td>\n",
       "      <td>0</td>\n",
       "      <td>0</td>\n",
       "      <td>3.0</td>\n",
       "    </tr>\n",
       "    <tr>\n",
       "      <th>3</th>\n",
       "      <td>21919</td>\n",
       "      <td>4.0</td>\n",
       "      <td>3.0</td>\n",
       "      <td>Orange County CA</td>\n",
       "      <td>1859.0</td>\n",
       "      <td>349142.0</td>\n",
       "      <td>1</td>\n",
       "      <td>0</td>\n",
       "      <td>7.0</td>\n",
       "    </tr>\n",
       "    <tr>\n",
       "      <th>4</th>\n",
       "      <td>16197</td>\n",
       "      <td>2.0</td>\n",
       "      <td>1.0</td>\n",
       "      <td>Los Angeles CA</td>\n",
       "      <td>1020.0</td>\n",
       "      <td>283500.0</td>\n",
       "      <td>0</td>\n",
       "      <td>0</td>\n",
       "      <td>3.0</td>\n",
       "    </tr>\n",
       "    <tr>\n",
       "      <th>...</th>\n",
       "      <td>...</td>\n",
       "      <td>...</td>\n",
       "      <td>...</td>\n",
       "      <td>...</td>\n",
       "      <td>...</td>\n",
       "      <td>...</td>\n",
       "      <td>...</td>\n",
       "      <td>...</td>\n",
       "      <td>...</td>\n",
       "    </tr>\n",
       "    <tr>\n",
       "      <th>23372</th>\n",
       "      <td>18392</td>\n",
       "      <td>1.0</td>\n",
       "      <td>1.0</td>\n",
       "      <td>Los Angeles CA</td>\n",
       "      <td>672.0</td>\n",
       "      <td>352080.0</td>\n",
       "      <td>0</td>\n",
       "      <td>0</td>\n",
       "      <td>2.0</td>\n",
       "    </tr>\n",
       "    <tr>\n",
       "      <th>23373</th>\n",
       "      <td>7039</td>\n",
       "      <td>3.0</td>\n",
       "      <td>2.0</td>\n",
       "      <td>Orange County CA</td>\n",
       "      <td>1243.0</td>\n",
       "      <td>413682.0</td>\n",
       "      <td>1</td>\n",
       "      <td>0</td>\n",
       "      <td>5.0</td>\n",
       "    </tr>\n",
       "    <tr>\n",
       "      <th>23374</th>\n",
       "      <td>14668</td>\n",
       "      <td>3.0</td>\n",
       "      <td>2.0</td>\n",
       "      <td>Los Angeles CA</td>\n",
       "      <td>1100.0</td>\n",
       "      <td>261693.0</td>\n",
       "      <td>0</td>\n",
       "      <td>0</td>\n",
       "      <td>5.0</td>\n",
       "    </tr>\n",
       "    <tr>\n",
       "      <th>23375</th>\n",
       "      <td>20664</td>\n",
       "      <td>4.0</td>\n",
       "      <td>2.0</td>\n",
       "      <td>Los Angeles CA</td>\n",
       "      <td>1924.0</td>\n",
       "      <td>96352.0</td>\n",
       "      <td>0</td>\n",
       "      <td>0</td>\n",
       "      <td>6.0</td>\n",
       "    </tr>\n",
       "    <tr>\n",
       "      <th>23376</th>\n",
       "      <td>25872</td>\n",
       "      <td>4.0</td>\n",
       "      <td>3.0</td>\n",
       "      <td>Orange County CA</td>\n",
       "      <td>2248.0</td>\n",
       "      <td>82006.0</td>\n",
       "      <td>1</td>\n",
       "      <td>0</td>\n",
       "      <td>7.0</td>\n",
       "    </tr>\n",
       "  </tbody>\n",
       "</table>\n",
       "<p>23377 rows × 9 columns</p>\n",
       "</div>"
      ],
      "text/plain": [
       "       index  beds  baths              fips    sqft  property_value  \\\n",
       "0      40577   3.0    2.0    Los Angeles CA  1290.0        443206.0   \n",
       "1      31790   3.0    1.0    Los Angeles CA  1441.0        446001.0   \n",
       "2      28080   2.0    1.0    Los Angeles CA  1259.0        130785.0   \n",
       "3      21919   4.0    3.0  Orange County CA  1859.0        349142.0   \n",
       "4      16197   2.0    1.0    Los Angeles CA  1020.0        283500.0   \n",
       "...      ...   ...    ...               ...     ...             ...   \n",
       "23372  18392   1.0    1.0    Los Angeles CA   672.0        352080.0   \n",
       "23373   7039   3.0    2.0  Orange County CA  1243.0        413682.0   \n",
       "23374  14668   3.0    2.0    Los Angeles CA  1100.0        261693.0   \n",
       "23375  20664   4.0    2.0    Los Angeles CA  1924.0         96352.0   \n",
       "23376  25872   4.0    3.0  Orange County CA  2248.0         82006.0   \n",
       "\n",
       "       fips_Orange County CA  fips_Ventura County CA  rooms_count  \n",
       "0                          0                       0          5.0  \n",
       "1                          0                       0          4.0  \n",
       "2                          0                       0          3.0  \n",
       "3                          1                       0          7.0  \n",
       "4                          0                       0          3.0  \n",
       "...                      ...                     ...          ...  \n",
       "23372                      0                       0          2.0  \n",
       "23373                      1                       0          5.0  \n",
       "23374                      0                       0          5.0  \n",
       "23375                      0                       0          6.0  \n",
       "23376                      1                       0          7.0  \n",
       "\n",
       "[23377 rows x 9 columns]"
      ]
     },
     "execution_count": 17,
     "metadata": {},
     "output_type": "execute_result"
    }
   ],
   "source": [
    "# Create rooms count column in train dataframe\n",
    "e.rooms_count(train)"
   ]
  },
  {
   "cell_type": "code",
   "execution_count": 18,
   "id": "49ec3a02",
   "metadata": {},
   "outputs": [
    {
     "data": {
      "image/png": "[encoded data removed]",
      "text/plain": [
       "<Figure size 432x288 with 1 Axes>"
      ]
     },
     "metadata": {
      "needs_background": "light"
     },
     "output_type": "display_data"
    }
   ],
   "source": [
    "# box plot Rooms vs Property value \n",
    "e.two_variable_boxplots(train,'rooms_count','property_value','Rooms and Home Value')"
   ]
  },
  {
   "cell_type": "markdown",
   "id": "5b226f87",
   "metadata": {},
   "source": [
    "### Takeaways\n",
    "\n",
    "- From 3 rooms to 6 rooms there is a wide range of price covered due to outliers \n",
    "- There is a consistent postive trend in max price as the room counts increase from 1 to 7"
   ]
  },
  {
   "cell_type": "markdown",
   "id": "48819e3f",
   "metadata": {},
   "source": [
    "### Hypothesis\n",
    "\n",
    "**Ho: There is no correlation between number of rooms and property value.**<br>\n",
    "**Ha: There is a correlation between number of rooms and property value.** "
   ]
  },
  {
   "cell_type": "code",
   "execution_count": 19,
   "id": "357ee08d",
   "metadata": {},
   "outputs": [
    {
     "name": "stdout",
     "output_type": "stream",
     "text": [
      "Correlation Strength = 0.1481\n",
      "p = 1.1278788485136645e-114\n"
     ]
    }
   ],
   "source": [
    "# Statistical test results \n",
    "e.correlation_stat_test(train,'rooms_count')"
   ]
  },
  {
   "cell_type": "markdown",
   "id": "78ba0381",
   "metadata": {},
   "source": [
    "### Takeaways\n",
    "- there is a weak positive correlation between total rooms in a home and property value"
   ]
  },
  {
   "cell_type": "markdown",
   "id": "80716f4e",
   "metadata": {},
   "source": [
    "## Exploration Summary\n",
    "\n",
    "* Median price is x\n",
    "* Mean property value is x\n",
    "* The difference between Mean and Median is 147,254\n",
    "* The features used for modeling will be baths, beds, sqft\n",
    "* The statistical tests provide support that there is a correlation between Property value and baths, beds, sqft\n",
    "* Statistical testing supports a significant relationship between fips code and property value \n"
   ]
  },
  {
   "cell_type": "markdown",
   "id": "e2566b98",
   "metadata": {},
   "source": [
    "## Features included in Models\n",
    "\n",
    "* The features for my models are baths and sqft\n",
    "* These features showed the strongest correlations with property value in my statistical tests "
   ]
  },
  {
   "cell_type": "markdown",
   "id": "af4403dd",
   "metadata": {},
   "source": [
    "## Features NOT included in Model\n",
    "\n",
    "* Rooms count, bedrooms and fips will not be included in my Model\n",
    "* The results of these statistical tests were significant but the strength was not as strong as the two variables I chose"
   ]
  },
  {
   "cell_type": "markdown",
   "id": "7d0877bb",
   "metadata": {},
   "source": [
    "## Setting up train, validate and test variables "
   ]
  },
  {
   "cell_type": "markdown",
   "id": "0807fd6f",
   "metadata": {},
   "source": [
    "## Scale data for X train"
   ]
  },
  {
   "cell_type": "code",
   "execution_count": 20,
   "id": "0a341e13",
   "metadata": {},
   "outputs": [],
   "source": [
    "# columns used as independent variables \n",
    "x_cols = ['baths','sqft']"
   ]
  },
  {
   "cell_type": "code",
   "execution_count": 21,
   "id": "4b5875cd",
   "metadata": {},
   "outputs": [],
   "source": [
    "# assigning features to x/y train, validate and test \n",
    "X_train = train[x_cols]\n",
    "y_train = train['property_value']\n",
    "\n",
    "X_validate = validate[x_cols]\n",
    "y_validate = validate['property_value']\n",
    "\n",
    "X_test = test[x_cols]\n",
    "y_test = test['property_value']"
   ]
  },
  {
   "cell_type": "code",
   "execution_count": 22,
   "id": "f8ccd2df",
   "metadata": {},
   "outputs": [],
   "source": [
    "# applying scaling to all the data splits.\n",
    "scaler = sklearn.preprocessing.RobustScaler()\n",
    "scaler.fit(X_train)\n",
    "\n",
    "# transforming train, validate and test datasets\n",
    "X_train_scaled = scaler.transform(X_train)\n",
    "X_validate_scaled = scaler.transform(X_validate)\n",
    "X_test_scaled = scaler.transform(X_test)\n",
    "\n"
   ]
  },
  {
   "cell_type": "markdown",
   "id": "bcbb6e0e",
   "metadata": {},
   "source": [
    "# Modeling"
   ]
  },
  {
   "cell_type": "markdown",
   "id": "8feb0ff4",
   "metadata": {},
   "source": [
    "### Introduction\n",
    "\n",
    "* I will use Root Mean Squared error as my evaluation metric\n",
    "* The median property value is 316,213\n",
    "* The mean property value is 376,063\n",
    "* My baseline model is created from the Root Mean Squared error (RMSE) of the median property value of the train and validate data set\n",
    "* Models will be evaluated on train and validate data sets \n",
    "* The model that performs the best will be evaluated on the test data"
   ]
  },
  {
   "cell_type": "code",
   "execution_count": 23,
   "id": "5365f54d",
   "metadata": {},
   "outputs": [],
   "source": [
    "# prepare data for models\n",
    "X_train, X_validate, y_train, y_validate, X_test, y_test = m.model_columns(train,validate,test)"
   ]
  },
  {
   "cell_type": "code",
   "execution_count": 24,
   "id": "4e588a02",
   "metadata": {},
   "outputs": [],
   "source": [
    "# Scale features\n",
    "m.scaling(X_train,X_validate,X_test)"
   ]
  },
  {
   "cell_type": "markdown",
   "id": "f1c19cb5",
   "metadata": {},
   "source": [
    "## Baseline Model"
   ]
  },
  {
   "cell_type": "code",
   "execution_count": 26,
   "id": "9a597467",
   "metadata": {},
   "outputs": [
    {
     "name": "stdout",
     "output_type": "stream",
     "text": [
      "RMSE using Median\n",
      "Train/In-Sample:  348486.33 \n",
      "Validate/Out-of-Sample:  322222.84\n"
     ]
    }
   ],
   "source": [
    "# creating baseline model\n",
    "m.baseline_model(y_train,y_validate)"
   ]
  },
  {
   "cell_type": "markdown",
   "id": "871055f2",
   "metadata": {},
   "source": [
    "## LinearRegression OLS "
   ]
  },
  {
   "cell_type": "code",
   "execution_count": 28,
   "id": "ed1ccb8c",
   "metadata": {},
   "outputs": [
    {
     "name": "stdout",
     "output_type": "stream",
     "text": [
      "RMSE for OLS using LinearRegression\n",
      "Training/In-Sample:  328794.5390412238 \n",
      "Validation/Out-of-Sample:  301983.58413777215\n"
     ]
    },
    {
     "name": "stderr",
     "output_type": "stream",
     "text": [
      "/opt/homebrew/anaconda3/lib/python3.9/site-packages/sklearn/linear_model/_base.py:141: FutureWarning: 'normalize' was deprecated in version 1.0 and will be removed in 1.2.\n",
      "If you wish to scale the data, use Pipeline with a StandardScaler in a preprocessing stage. To reproduce the previous behavior:\n",
      "\n",
      "from sklearn.pipeline import make_pipeline\n",
      "\n",
      "model = make_pipeline(StandardScaler(with_mean=False), LinearRegression())\n",
      "\n",
      "If you wish to pass a sample_weight parameter, you need to pass it as a fit parameter to each step of the pipeline as follows:\n",
      "\n",
      "kwargs = {s[0] + '__sample_weight': sample_weight for s in model.steps}\n",
      "model.fit(X, y, **kwargs)\n",
      "\n",
      "\n",
      "  warnings.warn(\n"
     ]
    }
   ],
   "source": [
    "m.linearOLS(X_train,X_validate,y_train,y_validate)"
   ]
  },
  {
   "cell_type": "code",
   "execution_count": null,
   "id": "9f2cd7ce",
   "metadata": {
    "scrolled": false
   },
   "outputs": [],
   "source": []
  },
  {
   "cell_type": "code",
   "execution_count": 29,
   "id": "4651de58",
   "metadata": {},
   "outputs": [
    {
     "ename": "NameError",
     "evalue": "name 'rmse_linearreg_train' is not defined",
     "output_type": "error",
     "traceback": [
      "\u001b[0;31m---------------------------------------------------------------------------\u001b[0m",
      "\u001b[0;31mNameError\u001b[0m                                 Traceback (most recent call last)",
      "Input \u001b[0;32mIn [29]\u001b[0m, in \u001b[0;36m<cell line: 3>\u001b[0;34m()\u001b[0m\n\u001b[1;32m      1\u001b[0m \u001b[38;5;66;03m# Comparing performance to baseline \u001b[39;00m\n\u001b[0;32m----> 3\u001b[0m \u001b[38;5;28mprint\u001b[39m(((\u001b[43mrmse_linearreg_train\u001b[49m\u001b[38;5;241m-\u001b[39mrmse_train)\u001b[38;5;241m/\u001b[39mrmse_train)\u001b[38;5;241m*\u001b[39m\u001b[38;5;241m100\u001b[39m)\n",
      "\u001b[0;31mNameError\u001b[0m: name 'rmse_linearreg_train' is not defined"
     ]
    }
   ],
   "source": [
    "# Comparing performance to baseline \n",
    "\n",
    "print(((rmse_linearreg_train-rmse_train)/rmse_train)*100)\n"
   ]
  },
  {
   "cell_type": "markdown",
   "id": "cc19ef9e",
   "metadata": {},
   "source": [
    "### Takeaways \n",
    "- model performs better than baseline \n",
    "- Reduces amount of explained error by almost 6% "
   ]
  },
  {
   "cell_type": "markdown",
   "id": "06bdfee6",
   "metadata": {},
   "source": [
    "## LassoLars "
   ]
  },
  {
   "cell_type": "code",
   "execution_count": 30,
   "id": "34a804bf",
   "metadata": {},
   "outputs": [
    {
     "name": "stdout",
     "output_type": "stream",
     "text": [
      "RMSE for Lasso + Lars\n",
      "Training/In-Sample:  328794.5801734886 \n",
      "Validation/Out-of-Sample:  301982.20921809884\n"
     ]
    },
    {
     "name": "stderr",
     "output_type": "stream",
     "text": [
      "/opt/homebrew/anaconda3/lib/python3.9/site-packages/sklearn/linear_model/_base.py:133: FutureWarning: The default of 'normalize' will be set to False in version 1.2 and deprecated in version 1.4.\n",
      "If you wish to scale the data, use Pipeline with a StandardScaler in a preprocessing stage. To reproduce the previous behavior:\n",
      "\n",
      "from sklearn.pipeline import make_pipeline\n",
      "\n",
      "model = make_pipeline(StandardScaler(with_mean=False), LassoLars())\n",
      "\n",
      "If you wish to pass a sample_weight parameter, you need to pass it as a fit parameter to each step of the pipeline as follows:\n",
      "\n",
      "kwargs = {s[0] + '__sample_weight': sample_weight for s in model.steps}\n",
      "model.fit(X, y, **kwargs)\n",
      "\n",
      "Set parameter alpha to: original_alpha * np.sqrt(n_samples). \n",
      "  warnings.warn(\n"
     ]
    }
   ],
   "source": [
    "m.lassolars(X_train,X_validate, y_train,y_validate)"
   ]
  },
  {
   "cell_type": "code",
   "execution_count": null,
   "id": "4673343a",
   "metadata": {},
   "outputs": [],
   "source": [
    "print(((rmse_laso_lars_train-rmse_train)/rmse_train)*100)"
   ]
  },
  {
   "cell_type": "markdown",
   "id": "5d9b532a",
   "metadata": {},
   "source": [
    "### Takeaways \n",
    "- model performs better than baseline \n",
    "- Reduces amount of explained error by almost 6% "
   ]
  },
  {
   "cell_type": "markdown",
   "id": "acf987ad",
   "metadata": {},
   "source": [
    "## TweedieRegressor(GLM) "
   ]
  },
  {
   "cell_type": "code",
   "execution_count": 31,
   "id": "fce58527",
   "metadata": {},
   "outputs": [
    {
     "name": "stdout",
     "output_type": "stream",
     "text": [
      "RMSE for GLM using Tweedie, power=1 & alpha=0\n",
      "Training/In-Sample:  343308.39434088784 \n",
      "Validation/Out-of-Sample:  316895.4401706822\n"
     ]
    },
    {
     "name": "stderr",
     "output_type": "stream",
     "text": [
      "/opt/homebrew/anaconda3/lib/python3.9/site-packages/sklearn/linear_model/_glm/link.py:90: RuntimeWarning: overflow encountered in exp\n",
      "  return np.exp(lin_pred)\n",
      "/opt/homebrew/anaconda3/lib/python3.9/site-packages/sklearn/linear_model/_glm/link.py:93: RuntimeWarning: overflow encountered in exp\n",
      "  return np.exp(lin_pred)\n",
      "/opt/homebrew/anaconda3/lib/python3.9/site-packages/sklearn/_loss/glm_distribution.py:132: RuntimeWarning: invalid value encountered in true_divide\n",
      "  return -2 * (y - y_pred) / self.unit_variance(y_pred)\n",
      "/opt/homebrew/anaconda3/lib/python3.9/site-packages/sklearn/_loss/glm_distribution.py:323: RuntimeWarning: invalid value encountered in add\n",
      "  dev = 2 * (xlogy(y, y / y_pred) - y + y_pred)\n",
      "/opt/homebrew/anaconda3/lib/python3.9/site-packages/sklearn/linear_model/_glm/glm.py:323: ConvergenceWarning: lbfgs failed to converge (status=2):\n",
      "ABNORMAL_TERMINATION_IN_LNSRCH.\n",
      "\n",
      "Increase the number of iterations (max_iter) or scale the data as shown in:\n",
      "    https://scikit-learn.org/stable/modules/preprocessing.html\n",
      "  self.n_iter_ = _check_optimize_result(\"lbfgs\", opt_res)\n"
     ]
    }
   ],
   "source": [
    "m.tweedie(X_train,X_validate,y_train,y_validate)"
   ]
  },
  {
   "cell_type": "code",
   "execution_count": null,
   "id": "ddad6538",
   "metadata": {},
   "outputs": [],
   "source": [
    "print(((rmse_tweedie_train-rmse_train)/rmse_train)*100)"
   ]
  },
  {
   "cell_type": "markdown",
   "id": "017a2790",
   "metadata": {},
   "source": [
    "## Takeaways\n",
    "- performs better than baseline \n",
    "- Reduces amount of explained error by 1.4%"
   ]
  },
  {
   "cell_type": "code",
   "execution_count": 32,
   "id": "5c2160c5",
   "metadata": {},
   "outputs": [
    {
     "name": "stdout",
     "output_type": "stream",
     "text": [
      "RMSE for Polynomial Model, degrees=2\n",
      "Training/In-Sample:  327904.65839553217 \n",
      "Validation/Out-of-Sample:  301231.5140785066\n"
     ]
    },
    {
     "name": "stderr",
     "output_type": "stream",
     "text": [
      "/opt/homebrew/anaconda3/lib/python3.9/site-packages/sklearn/linear_model/_base.py:141: FutureWarning: 'normalize' was deprecated in version 1.0 and will be removed in 1.2.\n",
      "If you wish to scale the data, use Pipeline with a StandardScaler in a preprocessing stage. To reproduce the previous behavior:\n",
      "\n",
      "from sklearn.pipeline import make_pipeline\n",
      "\n",
      "model = make_pipeline(StandardScaler(with_mean=False), LinearRegression())\n",
      "\n",
      "If you wish to pass a sample_weight parameter, you need to pass it as a fit parameter to each step of the pipeline as follows:\n",
      "\n",
      "kwargs = {s[0] + '__sample_weight': sample_weight for s in model.steps}\n",
      "model.fit(X, y, **kwargs)\n",
      "\n",
      "\n",
      "  warnings.warn(\n"
     ]
    }
   ],
   "source": [
    "m.linear_reg(X_train,X_validate,y_train,y_validate)"
   ]
  },
  {
   "cell_type": "code",
   "execution_count": null,
   "id": "2f9698ba",
   "metadata": {},
   "outputs": [],
   "source": [
    "print(((rmse_linear_train-rmse_train)/rmse_train)*100)"
   ]
  },
  {
   "cell_type": "markdown",
   "id": "075dbd7f",
   "metadata": {},
   "source": [
    "## Takeaways\n",
    "- performs better than baseline \n",
    "- Reduces amount of explained error by almost 6%"
   ]
  },
  {
   "cell_type": "markdown",
   "id": "7d0c320b",
   "metadata": {},
   "source": [
    "## Best Model"
   ]
  },
  {
   "cell_type": "markdown",
   "id": "a46e3769",
   "metadata": {},
   "source": [
    "### Linear Regression Model is best "
   ]
  },
  {
   "cell_type": "markdown",
   "id": "491c0631",
   "metadata": {},
   "source": [
    "## Test Model\n",
    "* I will run my Linear regression model on my test data"
   ]
  },
  {
   "cell_type": "markdown",
   "id": "0b3e186b",
   "metadata": {},
   "source": [
    "### Modeling Wrap \n",
    "\n",
    "* I would recommend this model for production because it does not over fit the data and it performs 4% better than the baseline"
   ]
  },
  {
   "cell_type": "markdown",
   "id": "6a3ce81f",
   "metadata": {},
   "source": [
    "## Conclusion\n",
    "\n",
    "### Summary\n",
    "* The median property value is 316,213\n",
    "* Statistical evidence supports correlations between property value and bedrooms, bathrooms and square feet of a home\n",
    "* My model uses bathrooms and home square footage to determine home value\n",
    "* There were very weak correlations between property value and bedrooms and total rooms in a home.  \n",
    "\n",
    "\n",
    "### Modeling Summary \n",
    "* The final model performed approximately 6% better than the baseline\n",
    "* I would recommend this model for production because it does not over fit the data and and performed better than baseline\n",
    "\n",
    "\n",
    "### Recommendations\n",
    "* Solicit for quantitative and qualitative data on why customer's select month to month contracts \n",
    "* Review incentives offered for each contract type\n",
    "\n",
    "### Next Steps\n",
    "* The next steps of this project would be to take more time to focus on statistically testing the features related to property location\n",
    "* Review the data to determine if there are a similar amount of transactions across the three counties or if significantly more transactions occur in Los Angeles "
   ]
  },
  {
   "cell_type": "code",
   "execution_count": null,
   "id": "0d9da803",
   "metadata": {},
   "outputs": [],
   "source": []
  },
  {
   "cell_type": "code",
   "execution_count": null,
   "id": "f405fc48",
   "metadata": {},
   "outputs": [],
   "source": []
  }
 ],
 "metadata": {
  "kernelspec": {
   "display_name": "Python 3 (ipykernel)",
   "language": "python",
   "name": "python3"
  },
  "language_info": {
   "codemirror_mode": {
    "name": "ipython",
    "version": 3
   },
   "file_extension": ".py",
   "mimetype": "text/x-python",
   "name": "python",
   "nbconvert_exporter": "python",
   "pygments_lexer": "ipython3",
   "version": "3.9.12"
  }
 },
 "nbformat": 4,
 "nbformat_minor": 5
}
