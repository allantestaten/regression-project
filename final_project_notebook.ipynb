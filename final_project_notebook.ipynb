{
 "cells": [
  {
   "cell_type": "code",
   "execution_count": 1,
   "id": "95313f75",
   "metadata": {},
   "outputs": [],
   "source": [
    "import numpy as np\n",
    "import pandas as pd\n",
    "import matplotlib.pyplot as plt\n",
    "import seaborn as sns\n",
    "from pathlib import Path \n",
    "import scipy.stats as stats\n",
    "import math\n",
    "import sklearn.preprocessing\n",
    "\n",
    "# modeling methods\n",
    "from sklearn.metrics import mean_squared_error\n",
    "from sklearn.linear_model import LinearRegression, LassoLars, TweedieRegressor\n",
    "from sklearn.preprocessing import PolynomialFeatures\n",
    "\n",
    "# train test split from sklearn\n",
    "from sklearn.model_selection import train_test_split\n",
    "# imputer from sklearn\n",
    "from sklearn.impute import SimpleImputer\n",
    "from sklearn.preprocessing import MinMaxScaler, StandardScaler, RobustScaler, QuantileTransformer\n",
    "\n",
    "import acquire \n",
    "import wrangle as w\n",
    "\n",
    "a = .05"
   ]
  },
  {
   "cell_type": "markdown",
   "id": "e73cd7c0",
   "metadata": {},
   "source": [
    "# Acquire\n",
    "\n",
    "* I acquired this data from the Codeup database using mySQL workbench\n",
    "* Each observation or row provides a value or description of a home\n",
    "* Each column represents a feature of the property\n",
    "* I acquired this data on Wednesday November 15th "
   ]
  },
  {
   "cell_type": "markdown",
   "id": "70550711",
   "metadata": {},
   "source": [
    "# Prepare\n",
    "\n",
    "* Removed null values with query from mySQL and outlier parameters of property beds, baths and square footage and property value\n",
    "* Split data into train, validate and test(approx. 50/30/20)\n",
    "* Based on data from United States Census bureau limited home square footage to 2,500\n",
    "* Converted fips numeric value to string value \n",
    "* Encoded Fips location strings into ones and zeros\n",
    "* Renamed multiple columns : bedrooms, bathrooms, complete square footage \n",
    "\n",
    " "
   ]
  },
  {
   "cell_type": "markdown",
   "id": "ff645029",
   "metadata": {},
   "source": [
    "## Data Dictionary\n",
    "| Feature | Definition |\n",
    "|:--------|:-----------|\n",
    "|Beds| Number of bedrooms in the home|\n",
    "|Baths| Number of bathrooms in the home|\n",
    "|sqft| The square footage of the home|\n",
    "|room count| Represents the total number of rooms in the home|\n",
    "|fips| The county the property is located in Los Angelese County CA, Ventura CA or Orange County CA|"
   ]
  },
  {
   "cell_type": "code",
   "execution_count": 2,
   "id": "9e98484b",
   "metadata": {},
   "outputs": [],
   "source": [
    "#create, train, validate, test datasets\n",
    "\n",
    "train, validate, test = w.wrangle_zillow()"
   ]
  },
  {
   "cell_type": "code",
   "execution_count": 3,
   "id": "6431b908",
   "metadata": {},
   "outputs": [
    {
     "data": {
      "text/plain": [
       "(23377, 7)"
      ]
     },
     "execution_count": 3,
     "metadata": {},
     "output_type": "execute_result"
    }
   ],
   "source": [
    "# viewing size of train dataset\n",
    "train.shape"
   ]
  },
  {
   "cell_type": "code",
   "execution_count": 6,
   "id": "015394ae",
   "metadata": {
    "scrolled": false
   },
   "outputs": [
    {
     "data": {
      "text/html": [
       "<div>\n",
       "<style scoped>\n",
       "    .dataframe tbody tr th:only-of-type {\n",
       "        vertical-align: middle;\n",
       "    }\n",
       "\n",
       "    .dataframe tbody tr th {\n",
       "        vertical-align: top;\n",
       "    }\n",
       "\n",
       "    .dataframe thead th {\n",
       "        text-align: right;\n",
       "    }\n",
       "</style>\n",
       "<table border=\"1\" class=\"dataframe\">\n",
       "  <thead>\n",
       "    <tr style=\"text-align: right;\">\n",
       "      <th></th>\n",
       "      <th>index</th>\n",
       "      <th>beds</th>\n",
       "      <th>baths</th>\n",
       "      <th>sqft</th>\n",
       "      <th>property_value</th>\n",
       "      <th>fips_Orange County CA</th>\n",
       "      <th>fips_Ventura County CA</th>\n",
       "      <th>rooms_count</th>\n",
       "    </tr>\n",
       "  </thead>\n",
       "  <tbody>\n",
       "    <tr>\n",
       "      <th>count</th>\n",
       "      <td>23377.000000</td>\n",
       "      <td>23377.000000</td>\n",
       "      <td>23377.000000</td>\n",
       "      <td>23377.000000</td>\n",
       "      <td>2.337700e+04</td>\n",
       "      <td>23377.000000</td>\n",
       "      <td>23377.000000</td>\n",
       "      <td>23377.000000</td>\n",
       "    </tr>\n",
       "    <tr>\n",
       "      <th>mean</th>\n",
       "      <td>26048.392993</td>\n",
       "      <td>3.078239</td>\n",
       "      <td>1.967361</td>\n",
       "      <td>1537.146512</td>\n",
       "      <td>3.760634e+05</td>\n",
       "      <td>0.243872</td>\n",
       "      <td>0.079180</td>\n",
       "      <td>5.095179</td>\n",
       "    </tr>\n",
       "    <tr>\n",
       "      <th>std</th>\n",
       "      <td>15193.671017</td>\n",
       "      <td>0.797356</td>\n",
       "      <td>0.658768</td>\n",
       "      <td>446.231290</td>\n",
       "      <td>3.433157e+05</td>\n",
       "      <td>0.429426</td>\n",
       "      <td>0.270026</td>\n",
       "      <td>1.307805</td>\n",
       "    </tr>\n",
       "    <tr>\n",
       "      <th>min</th>\n",
       "      <td>5.000000</td>\n",
       "      <td>0.000000</td>\n",
       "      <td>0.000000</td>\n",
       "      <td>152.000000</td>\n",
       "      <td>3.254000e+03</td>\n",
       "      <td>0.000000</td>\n",
       "      <td>0.000000</td>\n",
       "      <td>0.000000</td>\n",
       "    </tr>\n",
       "    <tr>\n",
       "      <th>25%</th>\n",
       "      <td>12822.000000</td>\n",
       "      <td>3.000000</td>\n",
       "      <td>2.000000</td>\n",
       "      <td>1201.000000</td>\n",
       "      <td>1.600500e+05</td>\n",
       "      <td>0.000000</td>\n",
       "      <td>0.000000</td>\n",
       "      <td>4.000000</td>\n",
       "    </tr>\n",
       "    <tr>\n",
       "      <th>50%</th>\n",
       "      <td>25935.000000</td>\n",
       "      <td>3.000000</td>\n",
       "      <td>2.000000</td>\n",
       "      <td>1490.000000</td>\n",
       "      <td>3.162130e+05</td>\n",
       "      <td>0.000000</td>\n",
       "      <td>0.000000</td>\n",
       "      <td>5.000000</td>\n",
       "    </tr>\n",
       "    <tr>\n",
       "      <th>75%</th>\n",
       "      <td>39265.000000</td>\n",
       "      <td>4.000000</td>\n",
       "      <td>2.000000</td>\n",
       "      <td>1863.000000</td>\n",
       "      <td>4.944260e+05</td>\n",
       "      <td>0.000000</td>\n",
       "      <td>0.000000</td>\n",
       "      <td>6.000000</td>\n",
       "    </tr>\n",
       "    <tr>\n",
       "      <th>max</th>\n",
       "      <td>52441.000000</td>\n",
       "      <td>6.000000</td>\n",
       "      <td>5.000000</td>\n",
       "      <td>2500.000000</td>\n",
       "      <td>1.087391e+07</td>\n",
       "      <td>1.000000</td>\n",
       "      <td>1.000000</td>\n",
       "      <td>11.000000</td>\n",
       "    </tr>\n",
       "  </tbody>\n",
       "</table>\n",
       "</div>"
      ],
      "text/plain": [
       "              index          beds         baths          sqft  property_value  \\\n",
       "count  23377.000000  23377.000000  23377.000000  23377.000000    2.337700e+04   \n",
       "mean   26048.392993      3.078239      1.967361   1537.146512    3.760634e+05   \n",
       "std    15193.671017      0.797356      0.658768    446.231290    3.433157e+05   \n",
       "min        5.000000      0.000000      0.000000    152.000000    3.254000e+03   \n",
       "25%    12822.000000      3.000000      2.000000   1201.000000    1.600500e+05   \n",
       "50%    25935.000000      3.000000      2.000000   1490.000000    3.162130e+05   \n",
       "75%    39265.000000      4.000000      2.000000   1863.000000    4.944260e+05   \n",
       "max    52441.000000      6.000000      5.000000   2500.000000    1.087391e+07   \n",
       "\n",
       "       fips_Orange County CA  fips_Ventura County CA   rooms_count  \n",
       "count           23377.000000            23377.000000  23377.000000  \n",
       "mean                0.243872                0.079180      5.095179  \n",
       "std                 0.429426                0.270026      1.307805  \n",
       "min                 0.000000                0.000000      0.000000  \n",
       "25%                 0.000000                0.000000      4.000000  \n",
       "50%                 0.000000                0.000000      5.000000  \n",
       "75%                 0.000000                0.000000      6.000000  \n",
       "max                 1.000000                1.000000     11.000000  "
      ]
     },
     "execution_count": 6,
     "metadata": {},
     "output_type": "execute_result"
    }
   ],
   "source": [
    "#Brief view of data descriptive statistics \n",
    "train.describe()"
   ]
  },
  {
   "cell_type": "markdown",
   "id": "faaa0d40",
   "metadata": {},
   "source": [
    "# Exploration of Data"
   ]
  },
  {
   "cell_type": "code",
   "execution_count": 25,
   "id": "0fa28951",
   "metadata": {
    "scrolled": true
   },
   "outputs": [],
   "source": [
    "#Feature Engineering adding an additional column\n",
    "train['rooms_count']= train['baths']+train['beds']\n",
    "\n",
    "# reset index \n",
    "train=train.reset_index()"
   ]
  },
  {
   "cell_type": "code",
   "execution_count": 49,
   "id": "05bba01d",
   "metadata": {},
   "outputs": [],
   "source": [
    "#Rounding up in rooms count \n",
    "train['rooms_count'] = train['rooms_count'].apply(np.ceil)"
   ]
  },
  {
   "cell_type": "code",
   "execution_count": 50,
   "id": "71e88188",
   "metadata": {},
   "outputs": [],
   "source": [
    "#Rounding up in rooms count \n",
    "train['baths'] = train['baths'].apply(np.ceil)"
   ]
  },
  {
   "cell_type": "code",
   "execution_count": 27,
   "id": "d7488f14",
   "metadata": {},
   "outputs": [
    {
     "data": {
      "text/plain": [
       "10873908.0"
      ]
     },
     "execution_count": 27,
     "metadata": {},
     "output_type": "execute_result"
    }
   ],
   "source": [
    "# most expensive property value \n",
    "train.property_value.max()"
   ]
  },
  {
   "cell_type": "markdown",
   "id": "6c7d7cb3",
   "metadata": {},
   "source": [
    "### What is the median and mean home price? "
   ]
  },
  {
   "cell_type": "code",
   "execution_count": 28,
   "id": "d717c842",
   "metadata": {
    "scrolled": true
   },
   "outputs": [
    {
     "data": {
      "text/plain": [
       "316213.0"
      ]
     },
     "execution_count": 28,
     "metadata": {},
     "output_type": "execute_result"
    }
   ],
   "source": [
    "#calculating median of property values \n",
    "median = train.property_value.median()\n",
    "median"
   ]
  },
  {
   "cell_type": "code",
   "execution_count": 29,
   "id": "bcae7050",
   "metadata": {},
   "outputs": [
    {
     "data": {
      "text/plain": [
       "376063.3894426145"
      ]
     },
     "execution_count": 29,
     "metadata": {},
     "output_type": "execute_result"
    }
   ],
   "source": [
    "#calculating mean of property values \n",
    "mean = train.property_value.mean()\n",
    "mean"
   ]
  },
  {
   "cell_type": "code",
   "execution_count": 30,
   "id": "7c7df3ba",
   "metadata": {},
   "outputs": [
    {
     "data": {
      "text/plain": [
       "59850.38944261451"
      ]
     },
     "execution_count": 30,
     "metadata": {},
     "output_type": "execute_result"
    }
   ],
   "source": [
    "# difference between mean and median \n",
    "difference = mean - median\n",
    "\n",
    "difference"
   ]
  },
  {
   "cell_type": "code",
   "execution_count": 31,
   "id": "612237ba",
   "metadata": {
    "scrolled": true
   },
   "outputs": [
    {
     "data": {
      "text/plain": [
       "<AxesSubplot:>"
      ]
     },
     "execution_count": 31,
     "metadata": {},
     "output_type": "execute_result"
    },
    {
     "data": {
      "image/png": "[encoded data removed]",
      "text/plain": [
       "<Figure size 432x288 with 1 Axes>"
      ]
     },
     "metadata": {
      "needs_background": "light"
     },
     "output_type": "display_data"
    }
   ],
   "source": [
    "train.property_value.hist()"
   ]
  },
  {
   "cell_type": "markdown",
   "id": "b3225e9e",
   "metadata": {},
   "source": [
    "### Takeaways\n",
    "\n",
    "- The median property value is 316,213\n",
    "- The mean property value is 376,063\n",
    "- The difference between these values is 59,850"
   ]
  },
  {
   "cell_type": "markdown",
   "id": "55c05bee",
   "metadata": {},
   "source": [
    "# Statistical Questions Section"
   ]
  },
  {
   "cell_type": "markdown",
   "id": "5758f0c0",
   "metadata": {},
   "source": [
    "### Is there a significant difference in mean property value across Los Angeles, Ventura County and Orange County?  "
   ]
  },
  {
   "cell_type": "code",
   "execution_count": 33,
   "id": "04a60889",
   "metadata": {},
   "outputs": [
    {
     "data": {
      "text/plain": [
       "Los Angeles CA       15825\n",
       "Orange County CA      5701\n",
       "Ventura County CA     1851\n",
       "Name: fips, dtype: int64"
      ]
     },
     "execution_count": 33,
     "metadata": {},
     "output_type": "execute_result"
    }
   ],
   "source": [
    "# Count of properties in each County\n",
    "train.fips.value_counts()"
   ]
  },
  {
   "cell_type": "code",
   "execution_count": 32,
   "id": "c158402e",
   "metadata": {},
   "outputs": [
    {
     "data": {
      "text/plain": [
       "[Text(0.5, 1.0, 'Spread of Home Prices')]"
      ]
     },
     "execution_count": 32,
     "metadata": {},
     "output_type": "execute_result"
    },
    {
     "data": {
      "image/png": "[encoded data removed]",
      "text/plain": [
       "<Figure size 432x288 with 1 Axes>"
      ]
     },
     "metadata": {
      "needs_background": "light"
     },
     "output_type": "display_data"
    }
   ],
   "source": [
    "# box plot Fips vs Property value \n",
    "sns.boxplot(data=train, x='fips', y='property_value').set(title='Spread of Home Prices')\n"
   ]
  },
  {
   "cell_type": "markdown",
   "id": "ce358d20",
   "metadata": {},
   "source": [
    "### Chart Takeaways \n",
    "- 5x as many homes in los angeles compared to Orange County in train sample\n",
    "- 15x as many homes in Los Angeles compared to Ventura County\n",
    "- Los Angeles has widest spread of property values due to it's outliers\n",
    "- There appears to be a higher frequency of homes being sold in Los Angeles compared to the other counties\n"
   ]
  },
  {
   "cell_type": "markdown",
   "id": "94c088fd",
   "metadata": {},
   "source": [
    "### Hypothesis\n",
    "\n",
    "- Ho: There is no difference in mean property values across Los Angeles County, Ventura County and Orange County<br>\n",
    "- Ha: There is a significant difference in mean property values across Los Angeles County, Ventura County and Orange County"
   ]
  },
  {
   "cell_type": "code",
   "execution_count": 38,
   "id": "7f9b2281",
   "metadata": {},
   "outputs": [],
   "source": [
    "# creating dataframes for each county and their property values\n",
    "la = train[train.fips == 'Los Angeles CA'].property_value\n",
    "oc = train[train.fips == 'Orange County CA'].property_value\n",
    "vc = train[train.fips == 'Ventura County CA'].property_value"
   ]
  },
  {
   "cell_type": "code",
   "execution_count": 40,
   "id": "9162f3cb",
   "metadata": {},
   "outputs": [
    {
     "data": {
      "text/plain": [
       "<AxesSubplot:>"
      ]
     },
     "execution_count": 40,
     "metadata": {},
     "output_type": "execute_result"
    },
    {
     "data": {
      "image/png": "[encoded data removed]",
      "text/plain": [
       "<Figure size 432x288 with 1 Axes>"
      ]
     },
     "metadata": {
      "needs_background": "light"
     },
     "output_type": "display_data"
    }
   ],
   "source": [
    "# histogram of home prices in La County\n",
    "la.hist()"
   ]
  },
  {
   "cell_type": "code",
   "execution_count": 36,
   "id": "f5b75e26",
   "metadata": {},
   "outputs": [
    {
     "data": {
      "text/plain": [
       "<AxesSubplot:>"
      ]
     },
     "execution_count": 36,
     "metadata": {},
     "output_type": "execute_result"
    },
    {
     "data": {
      "image/png": "[encoded data removed]",
      "text/plain": [
       "<Figure size 432x288 with 1 Axes>"
      ]
     },
     "metadata": {
      "needs_background": "light"
     },
     "output_type": "display_data"
    }
   ],
   "source": [
    "# histogram of home prices in Orange County\n",
    "oc.hist()"
   ]
  },
  {
   "cell_type": "code",
   "execution_count": 41,
   "id": "733c9a57",
   "metadata": {},
   "outputs": [
    {
     "data": {
      "text/plain": [
       "<AxesSubplot:>"
      ]
     },
     "execution_count": 41,
     "metadata": {},
     "output_type": "execute_result"
    },
    {
     "data": {
      "image/png": "[encoded data removed]",
      "text/plain": [
       "<Figure size 432x288 with 1 Axes>"
      ]
     },
     "metadata": {
      "needs_background": "light"
     },
     "output_type": "display_data"
    }
   ],
   "source": [
    "# histogram of home prices in Ventura County\n",
    "vc.hist()"
   ]
  },
  {
   "cell_type": "code",
   "execution_count": 43,
   "id": "1c3bdff7",
   "metadata": {},
   "outputs": [
    {
     "data": {
      "text/plain": [
       "137423766689.98007"
      ]
     },
     "execution_count": 43,
     "metadata": {},
     "output_type": "execute_result"
    }
   ],
   "source": [
    "# variance of prices in La County\n",
    "la.var()"
   ]
  },
  {
   "cell_type": "code",
   "execution_count": 44,
   "id": "96166d23",
   "metadata": {},
   "outputs": [
    {
     "data": {
      "text/plain": [
       "85736846687.3435"
      ]
     },
     "execution_count": 44,
     "metadata": {},
     "output_type": "execute_result"
    }
   ],
   "source": [
    "# variance of prices in Orange County\n",
    "oc.var()"
   ]
  },
  {
   "cell_type": "code",
   "execution_count": 45,
   "id": "e85d5f79",
   "metadata": {},
   "outputs": [
    {
     "data": {
      "text/plain": [
       "40991959968.33783"
      ]
     },
     "execution_count": 45,
     "metadata": {},
     "output_type": "execute_result"
    }
   ],
   "source": [
    "# variance of prices in Ventura County\n",
    "vc.var()"
   ]
  },
  {
   "cell_type": "code",
   "execution_count": 46,
   "id": "0cbbab9d",
   "metadata": {},
   "outputs": [
    {
     "data": {
      "text/plain": [
       "KruskalResult(statistic=601.2471343531851, pvalue=2.7595841708077645e-131)"
      ]
     },
     "execution_count": 46,
     "metadata": {},
     "output_type": "execute_result"
    }
   ],
   "source": [
    "# results of statistical test \n",
    "stats.kruskal(la, oc, vc)"
   ]
  },
  {
   "cell_type": "markdown",
   "id": "d4939acf",
   "metadata": {},
   "source": [
    "### Takeaways \n",
    "- These prices are not normally distributed \n",
    "- Will use Kruskal-Wallis test since prices not normally distributed \n",
    "- Variances are not similar \n",
    "- There is a significant difference in the mean property value of the homes across Los Angeles, Ventura and Orange County \n"
   ]
  },
  {
   "cell_type": "markdown",
   "id": "3e331dae",
   "metadata": {},
   "source": [
    "### Is there a correlation between square footage and property value?  "
   ]
  },
  {
   "cell_type": "code",
   "execution_count": 47,
   "id": "a078b05a",
   "metadata": {},
   "outputs": [
    {
     "data": {
      "text/plain": [
       "[Text(0.5, 1.0, 'Sqft and Value')]"
      ]
     },
     "execution_count": 47,
     "metadata": {},
     "output_type": "execute_result"
    },
    {
     "data": {
      "image/png": "[encoded data removed]",
      "text/plain": [
       "<Figure size 432x288 with 1 Axes>"
      ]
     },
     "metadata": {
      "needs_background": "light"
     },
     "output_type": "display_data"
    }
   ],
   "source": [
    "#visualization of sqft vs property value \n",
    "\n",
    "sns.regplot(x=\"sqft\",\n",
    "            y=\"property_value\", \n",
    "            data=train).set(title='Sqft and Value')\n"
   ]
  },
  {
   "cell_type": "markdown",
   "id": "335e4d42",
   "metadata": {},
   "source": [
    "### Chart Takeaways \n",
    "- As home square footage increases there are more outliers in property value"
   ]
  },
  {
   "cell_type": "markdown",
   "id": "c7f24f45",
   "metadata": {},
   "source": [
    "### Hypothesis: \n",
    "\n",
    "**Ho: There is no correlation between home square footage and property value.**<br>\n",
    "**Ha: There is a correlation between home square footage and property value.** "
   ]
  },
  {
   "cell_type": "code",
   "execution_count": 13,
   "id": "46a57c35",
   "metadata": {},
   "outputs": [
    {
     "data": {
      "text/plain": [
       "(0.2865340095600813, 0.0)"
      ]
     },
     "execution_count": 13,
     "metadata": {},
     "output_type": "execute_result"
    }
   ],
   "source": [
    "# statistics test results \n",
    "corr, p = stats.pearsonr(train.sqft, train.property_value)\n",
    "\n",
    "corr, p"
   ]
  },
  {
   "cell_type": "markdown",
   "id": "f453aa14",
   "metadata": {},
   "source": [
    "### Takeaways\n",
    "- Test is significant and there is a weak positive correlation between home sqft and home price"
   ]
  },
  {
   "cell_type": "markdown",
   "id": "9b9a99d8",
   "metadata": {},
   "source": [
    "### Is there a correlation between the bedrooms  and property value ?  "
   ]
  },
  {
   "cell_type": "code",
   "execution_count": 11,
   "id": "8d16a82a",
   "metadata": {},
   "outputs": [
    {
     "data": {
      "text/plain": [
       "[Text(0.5, 1.0, 'Beds and Home Price')]"
      ]
     },
     "execution_count": 11,
     "metadata": {},
     "output_type": "execute_result"
    },
    {
     "data": {
      "image/png": "[encoded data removed]",
      "text/plain": [
       "<Figure size 432x288 with 1 Axes>"
      ]
     },
     "metadata": {
      "needs_background": "light"
     },
     "output_type": "display_data"
    }
   ],
   "source": [
    "# box plot Bedrooms vs Property value \n",
    "sns.boxplot(data=train, x='beds', y='property_value').set(title='Beds and Home Price')\n"
   ]
  },
  {
   "cell_type": "markdown",
   "id": "3166b856",
   "metadata": {},
   "source": [
    "### Takeaways \n",
    "\n",
    "- Most outliers are seen between two and three bedroom homes \n",
    "- Across bedrooms there does not appear to be a major difference in their interquartile range"
   ]
  },
  {
   "cell_type": "markdown",
   "id": "f2560f41",
   "metadata": {},
   "source": [
    "### Hypothesis: \n",
    "\n",
    "**Ho: There is no correlation between number of beds and property value.**<br>\n",
    "**Ha: There is a correlation between number of beds and property value.** \n"
   ]
  },
  {
   "cell_type": "code",
   "execution_count": 12,
   "id": "df4c8e24",
   "metadata": {},
   "outputs": [
    {
     "data": {
      "text/plain": [
       "(0.0500699383280395, 1.86139227403694e-14)"
      ]
     },
     "execution_count": 12,
     "metadata": {},
     "output_type": "execute_result"
    }
   ],
   "source": [
    "# Statistical test results \n",
    "corr, p = stats.pearsonr(train.beds, train.property_value)\n",
    "\n",
    "corr, p"
   ]
  },
  {
   "cell_type": "markdown",
   "id": "94599e2b",
   "metadata": {},
   "source": [
    "### Takeaways \n",
    "- Bedrooms has a weak positive correlation to the property value "
   ]
  },
  {
   "cell_type": "markdown",
   "id": "ded898bd",
   "metadata": {},
   "source": [
    "### Is there a correlation between the bathrooms  and property value ?  "
   ]
  },
  {
   "cell_type": "code",
   "execution_count": 51,
   "id": "f58035bb",
   "metadata": {},
   "outputs": [
    {
     "data": {
      "text/plain": [
       "[Text(0.5, 1.0, 'Baths and Home Price')]"
      ]
     },
     "execution_count": 51,
     "metadata": {},
     "output_type": "execute_result"
    },
    {
     "data": {
      "image/png": "[encoded data removed]",
      "text/plain": [
       "<Figure size 432x288 with 1 Axes>"
      ]
     },
     "metadata": {
      "needs_background": "light"
     },
     "output_type": "display_data"
    }
   ],
   "source": [
    "# box plot Bathrooms vs Property value \n",
    "sns.boxplot(data=train, x='baths', y='property_value').set(title='Baths and Home Price')"
   ]
  },
  {
   "cell_type": "markdown",
   "id": "1b3d650f",
   "metadata": {},
   "source": [
    "### Hypothesis: \n",
    "\n",
    "**Ho: There is no correlation between number of baths and property value.**<br>\n",
    "**Ha: There is a correlation between number of baths and property value.** \n"
   ]
  },
  {
   "cell_type": "code",
   "execution_count": 52,
   "id": "117a5e9f",
   "metadata": {},
   "outputs": [
    {
     "data": {
      "text/plain": [
       "(0.22904557158028294, 6.778922525436562e-276)"
      ]
     },
     "execution_count": 52,
     "metadata": {},
     "output_type": "execute_result"
    }
   ],
   "source": [
    "corr, p = stats.pearsonr(train.baths, train.property_value)\n",
    "\n",
    "corr, p"
   ]
  },
  {
   "cell_type": "markdown",
   "id": "26e3b7e4",
   "metadata": {},
   "source": [
    "### Takeaways\n",
    "\n",
    "- There is a weak positive correlation between bathrooms and property value\n",
    "- There are slight differences in the interquartile ranges of the different bathroom counts"
   ]
  },
  {
   "cell_type": "markdown",
   "id": "10f369d5",
   "metadata": {},
   "source": [
    "### Is there a correlation between the room count and property value ?  "
   ]
  },
  {
   "cell_type": "code",
   "execution_count": 54,
   "id": "49ec3a02",
   "metadata": {},
   "outputs": [
    {
     "data": {
      "text/plain": [
       "[Text(0.5, 1.0, 'Rooms and Home Price')]"
      ]
     },
     "execution_count": 54,
     "metadata": {},
     "output_type": "execute_result"
    },
    {
     "data": {
      "image/png": "[encoded data removed]",
      "text/plain": [
       "<Figure size 432x288 with 1 Axes>"
      ]
     },
     "metadata": {
      "needs_background": "light"
     },
     "output_type": "display_data"
    }
   ],
   "source": [
    "# box plot Bathrooms vs Property value \n",
    "sns.boxplot(data=train, x='rooms_count', y='property_value').set(title='Rooms and Home Price')"
   ]
  },
  {
   "cell_type": "markdown",
   "id": "5b226f87",
   "metadata": {},
   "source": [
    "### Takeaways\n",
    "\n",
    "- From 3 rooms to 6 rooms there is a wide range of price covered due to outliers \n",
    "- There is a consistent postive trend in max price as the room counts increase from 1 to 7"
   ]
  },
  {
   "cell_type": "markdown",
   "id": "48819e3f",
   "metadata": {},
   "source": [
    "### Hypothesis\n",
    "\n",
    "**Ho: There is no correlation between number of rooms and property value.**<br>\n",
    "**Ha: There is a correlation between number of rooms and property value.** "
   ]
  },
  {
   "cell_type": "code",
   "execution_count": 17,
   "id": "357ee08d",
   "metadata": {},
   "outputs": [
    {
     "data": {
      "text/plain": [
       "(0.15331077495661316, 6.365224724958109e-123)"
      ]
     },
     "execution_count": 17,
     "metadata": {},
     "output_type": "execute_result"
    }
   ],
   "source": [
    "corr, p = stats.pearsonr(train.rooms_count, train.property_value)\n",
    "\n",
    "corr, p"
   ]
  },
  {
   "cell_type": "markdown",
   "id": "78ba0381",
   "metadata": {},
   "source": [
    "### Takeaways\n",
    "- there is a weak positive correlation between total rooms in a home and property value"
   ]
  },
  {
   "cell_type": "markdown",
   "id": "80716f4e",
   "metadata": {},
   "source": [
    "## Exploration Summary\n",
    "\n",
    "* Median price is x\n",
    "* Mean property value is x\n",
    "* The difference between Mean and Median is 147,254\n",
    "* The features used for modeling will be baths, beds, sqft\n",
    "* The statistical tests provide support that there is a correlation between Property value and baths, beds, sqft\n",
    "* Statistical testing supports a significant relationship between fips code and property value \n"
   ]
  },
  {
   "cell_type": "markdown",
   "id": "e2566b98",
   "metadata": {},
   "source": [
    "## Features included in Models\n",
    "\n",
    "* The features for my models are baths and sqft\n",
    "* These features showed the strongest correlations with property value in my statistical tests "
   ]
  },
  {
   "cell_type": "markdown",
   "id": "af4403dd",
   "metadata": {},
   "source": [
    "## Features NOT included in Model\n",
    "\n",
    "* Rooms count, bedrooms and fips will not be included in my Model\n",
    "* The results of these statistical tests were significant but the strength was not as strong as the two variables I chose"
   ]
  },
  {
   "cell_type": "markdown",
   "id": "7d0877bb",
   "metadata": {},
   "source": [
    "## Setting up train, validate and test variables "
   ]
  },
  {
   "cell_type": "markdown",
   "id": "0807fd6f",
   "metadata": {},
   "source": [
    "## Scale data for X train"
   ]
  },
  {
   "cell_type": "code",
   "execution_count": 55,
   "id": "0a341e13",
   "metadata": {},
   "outputs": [],
   "source": [
    "# columns used as independent variables \n",
    "x_cols = ['baths','sqft']"
   ]
  },
  {
   "cell_type": "code",
   "execution_count": 56,
   "id": "4b5875cd",
   "metadata": {},
   "outputs": [],
   "source": [
    "# assigning features to x/y train, validate and test \n",
    "X_train = train[x_cols]\n",
    "y_train = train['property_value']\n",
    "\n",
    "X_validate = validate[x_cols]\n",
    "y_validate = validate['property_value']\n",
    "\n",
    "X_test = test[x_cols]\n",
    "y_test = test['property_value']"
   ]
  },
  {
   "cell_type": "code",
   "execution_count": 57,
   "id": "f8ccd2df",
   "metadata": {},
   "outputs": [],
   "source": [
    "# applying scaling to all the data splits.\n",
    "scaler = sklearn.preprocessing.RobustScaler()\n",
    "scaler.fit(X_train)\n",
    "\n",
    "\n",
    "# transforming train, validate and test datasets\n",
    "X_train_scaled = scaler.transform(X_train)\n",
    "X_validate_scaled = scaler.transform(X_validate)\n",
    "X_test_scaled = scaler.transform(X_test)\n",
    "\n"
   ]
  },
  {
   "cell_type": "markdown",
   "id": "bcbb6e0e",
   "metadata": {},
   "source": [
    "# Modeling"
   ]
  },
  {
   "cell_type": "markdown",
   "id": "8feb0ff4",
   "metadata": {},
   "source": [
    "### Introduction\n",
    "\n",
    "* I will use Root Mean Squared error as my evaluation metric\n",
    "* The median property value is 316,213\n",
    "* The mean property value is 376,063\n",
    "* My baseline model is created from the Root Mean Squared error (RMSE) of the median property value of the train and validate data set\n",
    "* Models will be evaluated on train and validate data sets \n",
    "* The model that performs the best will be evaluated on the test data"
   ]
  },
  {
   "cell_type": "markdown",
   "id": "f1c19cb5",
   "metadata": {},
   "source": [
    "## Baseline Model"
   ]
  },
  {
   "cell_type": "code",
   "execution_count": 72,
   "id": "9a597467",
   "metadata": {},
   "outputs": [
    {
     "name": "stdout",
     "output_type": "stream",
     "text": [
      "RMSE using Median\n",
      "Train/In-Sample:  348486.33 \n",
      "Validate/Out-of-Sample:  322222.84\n"
     ]
    }
   ],
   "source": [
    "# We need y_train and y_validate to be dataframes to append the new columns with predicted values. \n",
    "y_train = pd.DataFrame(y_train)\n",
    "y_validate = pd.DataFrame(y_validate)\n",
    "\n",
    "# 1. Predict property_value_pred_mean\n",
    "prop_value_pred_mean = y_train['property_value'].mean()\n",
    "y_train['prop_value_pred_mean'] = prop_value_pred_mean\n",
    "y_validate['prop_value_pred_mean'] = prop_value_pred_mean\n",
    "\n",
    "# 2. compute prop_value_pred_median\n",
    "prop_value_pred_median = y_train['property_value'].median()\n",
    "y_train['prop_value_pred_median'] = prop_value_pred_median\n",
    "y_validate['prop_value_pred_median'] = prop_value_pred_median\n",
    "\n",
    "# 3. RMSE of prop_value_pred_median\n",
    "rmse_baseline_train = mean_squared_error(y_train.property_value, y_train.prop_value_pred_median)**(1/2)\n",
    "rmse_baseline_validate = mean_squared_error(y_validate.property_value, y_validate.prop_value_pred_median)**(1/2)\n",
    "\n",
    "print(\"RMSE using Median\\nTrain/In-Sample: \", round(rmse_train, 2), \n",
    "      \"\\nValidate/Out-of-Sample: \", round(rmse_validate, 2))"
   ]
  },
  {
   "cell_type": "markdown",
   "id": "871055f2",
   "metadata": {},
   "source": [
    "## LinearRegression OLS "
   ]
  },
  {
   "cell_type": "code",
   "execution_count": 74,
   "id": "9f2cd7ce",
   "metadata": {
    "scrolled": false
   },
   "outputs": [
    {
     "name": "stdout",
     "output_type": "stream",
     "text": [
      "RMSE for OLS using LinearRegression\n",
      "Training/In-Sample:  348486.33078121033 \n",
      "Validation/Out-of-Sample:  322222.84034009307\n"
     ]
    },
    {
     "name": "stderr",
     "output_type": "stream",
     "text": [
      "/opt/homebrew/anaconda3/lib/python3.9/site-packages/sklearn/linear_model/_base.py:141: FutureWarning: 'normalize' was deprecated in version 1.0 and will be removed in 1.2.\n",
      "If you wish to scale the data, use Pipeline with a StandardScaler in a preprocessing stage. To reproduce the previous behavior:\n",
      "\n",
      "from sklearn.pipeline import make_pipeline\n",
      "\n",
      "model = make_pipeline(StandardScaler(with_mean=False), LinearRegression())\n",
      "\n",
      "If you wish to pass a sample_weight parameter, you need to pass it as a fit parameter to each step of the pipeline as follows:\n",
      "\n",
      "kwargs = {s[0] + '__sample_weight': sample_weight for s in model.steps}\n",
      "model.fit(X, y, **kwargs)\n",
      "\n",
      "\n",
      "  warnings.warn(\n"
     ]
    }
   ],
   "source": [
    "# create the model object\n",
    "lm = LinearRegression(normalize=True)\n",
    "\n",
    "# fit the model to our training data. We must specify the column in y_train, \n",
    "# since we have converted it to a dataframe from a series! \n",
    "lm.fit(X_train, y_train.property_value)\n",
    "\n",
    "# predict train\n",
    "y_train['property_value_pred_lm'] = lm.predict(X_train)\n",
    "\n",
    "# evaluate: rmse\n",
    "rmse_linearreg_train = mean_squared_error(y_train.property_value, y_train.property_value_pred_lm)**(1/2)\n",
    "\n",
    "# predict validate\n",
    "y_validate['property_value_pred_lm'] = lm.predict(X_validate)\n",
    "\n",
    "# evaluate: rmse\n",
    "rmse_linearreg_validate = mean_squared_error(y_validate.property_value, y_validate.property_value_pred_lm)**(1/2)\n",
    "\n",
    "print(\"RMSE for OLS using LinearRegression\\nTraining/In-Sample: \", rmse_train, \n",
    "      \"\\nValidation/Out-of-Sample: \", rmse_validate)"
   ]
  },
  {
   "cell_type": "code",
   "execution_count": 88,
   "id": "4651de58",
   "metadata": {},
   "outputs": [
    {
     "name": "stdout",
     "output_type": "stream",
     "text": [
      "-5.6645672675766265\n"
     ]
    }
   ],
   "source": [
    "# Comparing performance to baseline \n",
    "\n",
    "print(((rmse_linearreg_train-rmse_train)/rmse_train)*100)\n"
   ]
  },
  {
   "cell_type": "markdown",
   "id": "cc19ef9e",
   "metadata": {},
   "source": [
    "### Takeaways \n",
    "- model performs better than baseline \n",
    "- Reduces amount of explained error by almost 6% "
   ]
  },
  {
   "cell_type": "markdown",
   "id": "06bdfee6",
   "metadata": {},
   "source": [
    "## LassoLars "
   ]
  },
  {
   "cell_type": "code",
   "execution_count": 79,
   "id": "81f3a656",
   "metadata": {},
   "outputs": [
    {
     "name": "stdout",
     "output_type": "stream",
     "text": [
      "RMSE for Lasso + Lars\n",
      "Training/In-Sample:  348486.33078121033 \n",
      "Validation/Out-of-Sample:  322222.84034009307\n"
     ]
    },
    {
     "name": "stderr",
     "output_type": "stream",
     "text": [
      "/opt/homebrew/anaconda3/lib/python3.9/site-packages/sklearn/linear_model/_base.py:133: FutureWarning: The default of 'normalize' will be set to False in version 1.2 and deprecated in version 1.4.\n",
      "If you wish to scale the data, use Pipeline with a StandardScaler in a preprocessing stage. To reproduce the previous behavior:\n",
      "\n",
      "from sklearn.pipeline import make_pipeline\n",
      "\n",
      "model = make_pipeline(StandardScaler(with_mean=False), LassoLars())\n",
      "\n",
      "If you wish to pass a sample_weight parameter, you need to pass it as a fit parameter to each step of the pipeline as follows:\n",
      "\n",
      "kwargs = {s[0] + '__sample_weight': sample_weight for s in model.steps}\n",
      "model.fit(X, y, **kwargs)\n",
      "\n",
      "Set parameter alpha to: original_alpha * np.sqrt(n_samples). \n",
      "  warnings.warn(\n"
     ]
    }
   ],
   "source": [
    "# create the model object\n",
    "lars = LassoLars(alpha=1.0)\n",
    "\n",
    "# fit the model to our training data. We must specify the column in y_train, \n",
    "# since we have converted it to a dataframe from a series! \n",
    "lars.fit(X_train, y_train.property_value)\n",
    "\n",
    "# predict train\n",
    "y_train['property_value_pred_lars'] = lars.predict(X_train)\n",
    "\n",
    "# evaluate: rmse\n",
    "rmse_laso_lars_train = mean_squared_error(y_train.property_value, y_train.property_value_pred_lars)**(1/2)\n",
    "\n",
    "# predict validate\n",
    "y_validate['property_value_pred_lars'] = lars.predict(X_validate)\n",
    "\n",
    "# evaluate: rmse\n",
    "rmse_laso_lars_validate = mean_squared_error(y_validate.property_value, y_validate.property_value_pred_lars)**(1/2)\n",
    "\n",
    "print(\"RMSE for Lasso + Lars\\nTraining/In-Sample: \", rmse_train, \n",
    "      \"\\nValidation/Out-of-Sample: \", rmse_validate)"
   ]
  },
  {
   "cell_type": "code",
   "execution_count": 89,
   "id": "4673343a",
   "metadata": {},
   "outputs": [
    {
     "name": "stdout",
     "output_type": "stream",
     "text": [
      "-5.664555445376973\n"
     ]
    }
   ],
   "source": [
    "print(((rmse_laso_lars_train-rmse_train)/rmse_train)*100)"
   ]
  },
  {
   "cell_type": "markdown",
   "id": "5d9b532a",
   "metadata": {},
   "source": [
    "### Takeaways \n",
    "- model performs better than baseline \n",
    "- Reduces amount of explained error by almost 6% "
   ]
  },
  {
   "cell_type": "markdown",
   "id": "acf987ad",
   "metadata": {},
   "source": [
    "## TweedieRegressor(GLM) "
   ]
  },
  {
   "cell_type": "code",
   "execution_count": 82,
   "id": "6239e053",
   "metadata": {},
   "outputs": [
    {
     "name": "stdout",
     "output_type": "stream",
     "text": [
      "RMSE for GLM using Tweedie, power=1 & alpha=0\n",
      "Training/In-Sample:  348486.33078121033 \n",
      "Validation/Out-of-Sample:  322222.84034009307\n"
     ]
    },
    {
     "name": "stderr",
     "output_type": "stream",
     "text": [
      "/opt/homebrew/anaconda3/lib/python3.9/site-packages/sklearn/linear_model/_glm/link.py:90: RuntimeWarning: overflow encountered in exp\n",
      "  return np.exp(lin_pred)\n",
      "/opt/homebrew/anaconda3/lib/python3.9/site-packages/sklearn/linear_model/_glm/link.py:93: RuntimeWarning: overflow encountered in exp\n",
      "  return np.exp(lin_pred)\n",
      "/opt/homebrew/anaconda3/lib/python3.9/site-packages/sklearn/_loss/glm_distribution.py:132: RuntimeWarning: invalid value encountered in true_divide\n",
      "  return -2 * (y - y_pred) / self.unit_variance(y_pred)\n",
      "/opt/homebrew/anaconda3/lib/python3.9/site-packages/sklearn/_loss/glm_distribution.py:323: RuntimeWarning: invalid value encountered in add\n",
      "  dev = 2 * (xlogy(y, y / y_pred) - y + y_pred)\n",
      "/opt/homebrew/anaconda3/lib/python3.9/site-packages/sklearn/linear_model/_glm/glm.py:323: ConvergenceWarning: lbfgs failed to converge (status=2):\n",
      "ABNORMAL_TERMINATION_IN_LNSRCH.\n",
      "\n",
      "Increase the number of iterations (max_iter) or scale the data as shown in:\n",
      "    https://scikit-learn.org/stable/modules/preprocessing.html\n",
      "  self.n_iter_ = _check_optimize_result(\"lbfgs\", opt_res)\n"
     ]
    }
   ],
   "source": [
    "# create the model object\n",
    "glm = TweedieRegressor(power=1, alpha=0)\n",
    "\n",
    "# fit the model to our training data. We must specify the column in y_train, \n",
    "# since we have converted it to a dataframe from a series! \n",
    "glm.fit(X_train, y_train.property_value)\n",
    "\n",
    "# predict train\n",
    "y_train['property_value_pred_glm'] = glm.predict(X_train)\n",
    "\n",
    "# evaluate: rmse\n",
    "rmse_tweedie_train = mean_squared_error(y_train.property_value, y_train.property_value_pred_glm)**(1/2)\n",
    "\n",
    "# predict validate\n",
    "y_validate['property_value_pred_glm'] = glm.predict(X_validate)\n",
    "\n",
    "# evaluate: rmse\n",
    "rmse_tweedie_validate = mean_squared_error(y_validate.property_value, y_validate.property_value_pred_glm)**(1/2)\n",
    "\n",
    "print(\"RMSE for GLM using Tweedie, power=1 & alpha=0\\nTraining/In-Sample: \", rmse_train, \n",
    "      \"\\nValidation/Out-of-Sample: \", rmse_validate)"
   ]
  },
  {
   "cell_type": "code",
   "execution_count": 90,
   "id": "ddad6538",
   "metadata": {},
   "outputs": [
    {
     "name": "stdout",
     "output_type": "stream",
     "text": [
      "-1.4858363106280188\n"
     ]
    }
   ],
   "source": [
    "print(((rmse_tweedie_train-rmse_train)/rmse_train)*100)"
   ]
  },
  {
   "cell_type": "markdown",
   "id": "017a2790",
   "metadata": {},
   "source": [
    "## Takeaways\n",
    "- performs better than baseline \n",
    "- Reduces amount of explained error by 1.4%"
   ]
  },
  {
   "cell_type": "markdown",
   "id": "53fba003",
   "metadata": {},
   "source": [
    "## Polynomial regression - area, beds, baths"
   ]
  },
  {
   "cell_type": "code",
   "execution_count": 70,
   "id": "36fdeab9",
   "metadata": {},
   "outputs": [],
   "source": [
    "# make the polynomial features to get a new set of features\n",
    "pf = PolynomialFeatures(degree=4)\n",
    "\n",
    "# fit and transform X_train_scaled\n",
    "X_train_degree2 = pf.fit_transform(X_train)\n",
    "\n",
    "# transform X_validate_scaled & X_test_scaled\n",
    "X_validate_degree2 = pf.transform(X_validate)\n",
    "#X_test_degree2 = pf.transform(X_test)"
   ]
  },
  {
   "cell_type": "markdown",
   "id": "bf7a9baf",
   "metadata": {},
   "source": [
    "## Linear Regression"
   ]
  },
  {
   "cell_type": "code",
   "execution_count": 93,
   "id": "c92c6bbb",
   "metadata": {},
   "outputs": [
    {
     "name": "stdout",
     "output_type": "stream",
     "text": [
      "RMSE for Polynomial Model, degrees=2\n",
      "Training/In-Sample:  348486.33078121033 \n",
      "Validation/Out-of-Sample:  322222.84034009307\n"
     ]
    },
    {
     "name": "stderr",
     "output_type": "stream",
     "text": [
      "/opt/homebrew/anaconda3/lib/python3.9/site-packages/sklearn/linear_model/_base.py:141: FutureWarning: 'normalize' was deprecated in version 1.0 and will be removed in 1.2.\n",
      "If you wish to scale the data, use Pipeline with a StandardScaler in a preprocessing stage. To reproduce the previous behavior:\n",
      "\n",
      "from sklearn.pipeline import make_pipeline\n",
      "\n",
      "model = make_pipeline(StandardScaler(with_mean=False), LinearRegression())\n",
      "\n",
      "If you wish to pass a sample_weight parameter, you need to pass it as a fit parameter to each step of the pipeline as follows:\n",
      "\n",
      "kwargs = {s[0] + '__sample_weight': sample_weight for s in model.steps}\n",
      "model.fit(X, y, **kwargs)\n",
      "\n",
      "\n",
      "  warnings.warn(\n"
     ]
    }
   ],
   "source": [
    "# create the model object\n",
    "lm2 = LinearRegression(normalize=True)\n",
    "\n",
    "# fit the model to our training data. We must specify the column in y_train, \n",
    "# since we have converted it to a dataframe from a series! \n",
    "lm2.fit(X_train_degree2, y_train.property_value)\n",
    "\n",
    "# predict train\n",
    "y_train['property_value_pred_lm2'] = lm2.predict(X_train_degree2)\n",
    "\n",
    "# evaluate: rmse\n",
    "rmse_linear_train = mean_squared_error(y_train.property_value, y_train.property_value_pred_lm2)**(1/2)\n",
    "\n",
    "# predict validate\n",
    "y_validate['property_value_pred_lm2'] = lm2.predict(X_validate_degree2)\n",
    "\n",
    "# evaluate: rmse\n",
    "rmse_linear_validate = mean_squared_error(y_validate.property_value, y_validate.property_value_pred_lm2)**(1/2)\n",
    "\n",
    "print(\"RMSE for Polynomial Model, degrees=2\\nTraining/In-Sample: \", rmse_train, \n",
    "      \"\\nValidation/Out-of-Sample: \", rmse_validate)"
   ]
  },
  {
   "cell_type": "code",
   "execution_count": 92,
   "id": "2f9698ba",
   "metadata": {},
   "outputs": [
    {
     "name": "stdout",
     "output_type": "stream",
     "text": [
      "-5.942727216995474\n"
     ]
    }
   ],
   "source": [
    "print(((rmse_linear_train-rmse_train)/rmse_train)*100)"
   ]
  },
  {
   "cell_type": "markdown",
   "id": "075dbd7f",
   "metadata": {},
   "source": [
    "## Takeaways\n",
    "- performs better than baseline \n",
    "- Reduces amount of explained error by almost 6%"
   ]
  },
  {
   "cell_type": "markdown",
   "id": "7d0c320b",
   "metadata": {},
   "source": [
    "## Best Model"
   ]
  },
  {
   "cell_type": "markdown",
   "id": "a46e3769",
   "metadata": {},
   "source": [
    "### Linear Regression Model is best "
   ]
  },
  {
   "cell_type": "markdown",
   "id": "491c0631",
   "metadata": {},
   "source": [
    "## Test Model\n",
    "* I will run my Linear regression model on my test data"
   ]
  },
  {
   "cell_type": "markdown",
   "id": "0b3e186b",
   "metadata": {},
   "source": [
    "### Modeling Wrap \n",
    "\n",
    "* I would recommend this model for production because it does not over fit the data and it performs 4% better than the baseline"
   ]
  },
  {
   "cell_type": "markdown",
   "id": "6a3ce81f",
   "metadata": {},
   "source": [
    "## Conclusion\n",
    "\n",
    "### Summary\n",
    "* The median property value is 316,213\n",
    "* Statistical evidence supports correlations between property value and bedrooms, bathrooms and square feet of a home\n",
    "* My model uses bathrooms and home square footage to determine home value\n",
    "* There were very weak correlations between property value and bedrooms and total rooms in a home.  \n",
    "\n",
    "\n",
    "### Modeling Summary \n",
    "* The final model performed approximately 6% better than the baseline\n",
    "* I would recommend this model for production because it does not over fit the data and and performed better than baseline\n",
    "\n",
    "\n",
    "### Recommendations\n",
    "* Solicit for quantitative and qualitative data on why customer's select month to month contracts \n",
    "* Review incentives offered for each contract type\n",
    "\n",
    "### Next Steps\n",
    "* The next steps of this project would be to take more time to focus on statistically testing the features related to property location\n",
    "* Review the data to determine if there are a similar amount of transactions across the three counties or if significantly more transactions occur in Los Angeles "
   ]
  },
  {
   "cell_type": "code",
   "execution_count": null,
   "id": "0d9da803",
   "metadata": {},
   "outputs": [],
   "source": []
  },
  {
   "cell_type": "code",
   "execution_count": null,
   "id": "f405fc48",
   "metadata": {},
   "outputs": [],
   "source": []
  }
 ],
 "metadata": {
  "kernelspec": {
   "display_name": "Python 3 (ipykernel)",
   "language": "python",
   "name": "python3"
  },
  "language_info": {
   "codemirror_mode": {
    "name": "ipython",
    "version": 3
   },
   "file_extension": ".py",
   "mimetype": "text/x-python",
   "name": "python",
   "nbconvert_exporter": "python",
   "pygments_lexer": "ipython3",
   "version": "3.9.12"
  }
 },
 "nbformat": 4,
 "nbformat_minor": 5
}
