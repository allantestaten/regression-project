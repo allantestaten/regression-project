{
 "cells": [
  {
   "cell_type": "code",
   "execution_count": 1,
   "id": "95313f75",
   "metadata": {},
   "outputs": [],
   "source": [
    "import numpy as np\n",
    "import pandas as pd\n",
    "import matplotlib.pyplot as plt\n",
    "import seaborn as sns\n",
    "from pathlib import Path \n",
    "import scipy.stats as stats\n",
    "import math\n",
    "import sklearn.preprocessing\n",
    "\n",
    "# modeling methods\n",
    "from sklearn.metrics import mean_squared_error\n",
    "from sklearn.linear_model import LinearRegression, LassoLars, TweedieRegressor\n",
    "from sklearn.preprocessing import PolynomialFeatures\n",
    "\n",
    "# train test split from sklearn\n",
    "from sklearn.model_selection import train_test_split\n",
    "# imputer from sklearn\n",
    "from sklearn.impute import SimpleImputer\n",
    "from sklearn.preprocessing import MinMaxScaler, StandardScaler, RobustScaler, QuantileTransformer\n",
    "\n",
    "import acquire \n",
    "import wrangle as w\n",
    "\n",
    "a = .05"
   ]
  },
  {
   "cell_type": "markdown",
   "id": "81099ac0",
   "metadata": {},
   "source": [
    "# Acquire\n",
    "\n",
    "* I acquired this data from the Codeup database using mySQL workbench\n",
    "* Each observation or row represents a business profile of a customer\n",
    "* Each column represents a feature of the customer's account\n",
    "* I acquired this data on Wednesday October 26th \n",
    "* The data has 7,043 rows and 24 columns "
   ]
  },
  {
   "cell_type": "markdown",
   "id": "23267d5b",
   "metadata": {},
   "source": [
    "# Prepare\n",
    "\n",
    "* Removed null values stored as whitespace\n",
    "* Changed total charges from object to float and did not identify or address outliers\n",
    "* Split data into train, validate and test(approx. 74/16/10)\n",
    "* Encoded binary categorical variables to 1 or 0 \n",
    "* Converted non-binary categorical variables to 1 and 0 \n",
    "* No columns were dropped during preparation "
   ]
  },
  {
   "cell_type": "markdown",
   "id": "405ce9d5",
   "metadata": {},
   "source": [
    "## Data Dictionary\n",
    "| Feature | Definition |\n",
    "|:--------|:-----------|\n",
    "|Beds| Number of bedrooms in the home|\n",
    "|Baths| Number of bathrooms in the home|\n",
    "|sqft| The square footage of the home|\n",
    "|room count| Represents the total number of rooms in the home|\n",
    "|fips| The county the property is located in Los Angelese County CA, Ventura CA or Orange County CA|"
   ]
  },
  {
   "cell_type": "code",
   "execution_count": 2,
   "id": "74f3189a",
   "metadata": {
    "scrolled": false
   },
   "outputs": [
    {
     "data": {
      "text/html": [
       "<div>\n",
       "<style scoped>\n",
       "    .dataframe tbody tr th:only-of-type {\n",
       "        vertical-align: middle;\n",
       "    }\n",
       "\n",
       "    .dataframe tbody tr th {\n",
       "        vertical-align: top;\n",
       "    }\n",
       "\n",
       "    .dataframe thead th {\n",
       "        text-align: right;\n",
       "    }\n",
       "</style>\n",
       "<table border=\"1\" class=\"dataframe\">\n",
       "  <thead>\n",
       "    <tr style=\"text-align: right;\">\n",
       "      <th></th>\n",
       "      <th>bedroomcnt</th>\n",
       "      <th>bathroomcnt</th>\n",
       "      <th>fips</th>\n",
       "      <th>calculatedfinishedsquarefeet</th>\n",
       "      <th>taxvaluedollarcnt</th>\n",
       "    </tr>\n",
       "  </thead>\n",
       "  <tbody>\n",
       "    <tr>\n",
       "      <th>0</th>\n",
       "      <td>4.0</td>\n",
       "      <td>3.5</td>\n",
       "      <td>6059.0</td>\n",
       "      <td>3100.0</td>\n",
       "      <td>1023282.0</td>\n",
       "    </tr>\n",
       "    <tr>\n",
       "      <th>1</th>\n",
       "      <td>2.0</td>\n",
       "      <td>1.0</td>\n",
       "      <td>6111.0</td>\n",
       "      <td>1465.0</td>\n",
       "      <td>464000.0</td>\n",
       "    </tr>\n",
       "    <tr>\n",
       "      <th>2</th>\n",
       "      <td>3.0</td>\n",
       "      <td>2.0</td>\n",
       "      <td>6059.0</td>\n",
       "      <td>1243.0</td>\n",
       "      <td>564778.0</td>\n",
       "    </tr>\n",
       "    <tr>\n",
       "      <th>3</th>\n",
       "      <td>4.0</td>\n",
       "      <td>3.0</td>\n",
       "      <td>6037.0</td>\n",
       "      <td>2376.0</td>\n",
       "      <td>145143.0</td>\n",
       "    </tr>\n",
       "    <tr>\n",
       "      <th>4</th>\n",
       "      <td>4.0</td>\n",
       "      <td>3.0</td>\n",
       "      <td>6037.0</td>\n",
       "      <td>2962.0</td>\n",
       "      <td>773303.0</td>\n",
       "    </tr>\n",
       "    <tr>\n",
       "      <th>...</th>\n",
       "      <td>...</td>\n",
       "      <td>...</td>\n",
       "      <td>...</td>\n",
       "      <td>...</td>\n",
       "      <td>...</td>\n",
       "    </tr>\n",
       "    <tr>\n",
       "      <th>52437</th>\n",
       "      <td>2.0</td>\n",
       "      <td>2.0</td>\n",
       "      <td>6037.0</td>\n",
       "      <td>1286.0</td>\n",
       "      <td>354621.0</td>\n",
       "    </tr>\n",
       "    <tr>\n",
       "      <th>52438</th>\n",
       "      <td>4.0</td>\n",
       "      <td>2.0</td>\n",
       "      <td>6111.0</td>\n",
       "      <td>1612.0</td>\n",
       "      <td>67205.0</td>\n",
       "    </tr>\n",
       "    <tr>\n",
       "      <th>52439</th>\n",
       "      <td>3.0</td>\n",
       "      <td>1.0</td>\n",
       "      <td>6037.0</td>\n",
       "      <td>1032.0</td>\n",
       "      <td>49546.0</td>\n",
       "    </tr>\n",
       "    <tr>\n",
       "      <th>52440</th>\n",
       "      <td>3.0</td>\n",
       "      <td>2.0</td>\n",
       "      <td>6037.0</td>\n",
       "      <td>1762.0</td>\n",
       "      <td>522000.0</td>\n",
       "    </tr>\n",
       "    <tr>\n",
       "      <th>52441</th>\n",
       "      <td>3.0</td>\n",
       "      <td>2.0</td>\n",
       "      <td>6037.0</td>\n",
       "      <td>1050.0</td>\n",
       "      <td>259334.0</td>\n",
       "    </tr>\n",
       "  </tbody>\n",
       "</table>\n",
       "<p>52442 rows × 5 columns</p>\n",
       "</div>"
      ],
      "text/plain": [
       "       bedroomcnt  bathroomcnt    fips  calculatedfinishedsquarefeet  \\\n",
       "0             4.0          3.5  6059.0                        3100.0   \n",
       "1             2.0          1.0  6111.0                        1465.0   \n",
       "2             3.0          2.0  6059.0                        1243.0   \n",
       "3             4.0          3.0  6037.0                        2376.0   \n",
       "4             4.0          3.0  6037.0                        2962.0   \n",
       "...           ...          ...     ...                           ...   \n",
       "52437         2.0          2.0  6037.0                        1286.0   \n",
       "52438         4.0          2.0  6111.0                        1612.0   \n",
       "52439         3.0          1.0  6037.0                        1032.0   \n",
       "52440         3.0          2.0  6037.0                        1762.0   \n",
       "52441         3.0          2.0  6037.0                        1050.0   \n",
       "\n",
       "       taxvaluedollarcnt  \n",
       "0              1023282.0  \n",
       "1               464000.0  \n",
       "2               564778.0  \n",
       "3               145143.0  \n",
       "4               773303.0  \n",
       "...                  ...  \n",
       "52437           354621.0  \n",
       "52438            67205.0  \n",
       "52439            49546.0  \n",
       "52440           522000.0  \n",
       "52441           259334.0  \n",
       "\n",
       "[52442 rows x 5 columns]"
      ]
     },
     "execution_count": 2,
     "metadata": {},
     "output_type": "execute_result"
    }
   ],
   "source": [
    "w.new_zillow_data()"
   ]
  },
  {
   "cell_type": "code",
   "execution_count": 3,
   "id": "9e98484b",
   "metadata": {},
   "outputs": [],
   "source": [
    "#create, train, validate, test datasets\n",
    "\n",
    "train, validate, test = w.wrangle_zillow()"
   ]
  },
  {
   "cell_type": "code",
   "execution_count": 4,
   "id": "6431b908",
   "metadata": {},
   "outputs": [
    {
     "data": {
      "text/plain": [
       "(23377, 7)"
      ]
     },
     "execution_count": 4,
     "metadata": {},
     "output_type": "execute_result"
    }
   ],
   "source": [
    "# viewing size of train dataset\n",
    "train.shape"
   ]
  },
  {
   "cell_type": "code",
   "execution_count": 5,
   "id": "e448966b",
   "metadata": {},
   "outputs": [
    {
     "data": {
      "text/plain": [
       "(10019, 7)"
      ]
     },
     "execution_count": 5,
     "metadata": {},
     "output_type": "execute_result"
    }
   ],
   "source": [
    "# viewing size of validate dataset\n",
    "validate.shape"
   ]
  },
  {
   "cell_type": "code",
   "execution_count": 6,
   "id": "09353e70",
   "metadata": {},
   "outputs": [
    {
     "data": {
      "text/plain": [
       "(8349, 7)"
      ]
     },
     "execution_count": 6,
     "metadata": {},
     "output_type": "execute_result"
    }
   ],
   "source": [
    "# viewing size of test dataset\n",
    "test.shape"
   ]
  },
  {
   "cell_type": "code",
   "execution_count": 7,
   "id": "0fa28951",
   "metadata": {
    "scrolled": true
   },
   "outputs": [
    {
     "data": {
      "text/html": [
       "<div>\n",
       "<style scoped>\n",
       "    .dataframe tbody tr th:only-of-type {\n",
       "        vertical-align: middle;\n",
       "    }\n",
       "\n",
       "    .dataframe tbody tr th {\n",
       "        vertical-align: top;\n",
       "    }\n",
       "\n",
       "    .dataframe thead th {\n",
       "        text-align: right;\n",
       "    }\n",
       "</style>\n",
       "<table border=\"1\" class=\"dataframe\">\n",
       "  <thead>\n",
       "    <tr style=\"text-align: right;\">\n",
       "      <th></th>\n",
       "      <th>propertylandusetypeid</th>\n",
       "      <th>parcelid</th>\n",
       "      <th>id</th>\n",
       "      <th>logerror</th>\n",
       "      <th>transactiondate</th>\n",
       "      <th>id.1</th>\n",
       "      <th>airconditioningtypeid</th>\n",
       "      <th>architecturalstyletypeid</th>\n",
       "      <th>basementsqft</th>\n",
       "      <th>baths</th>\n",
       "      <th>...</th>\n",
       "      <th>assessmentyear</th>\n",
       "      <th>landtaxvaluedollarcnt</th>\n",
       "      <th>taxamount</th>\n",
       "      <th>taxdelinquencyflag</th>\n",
       "      <th>taxdelinquencyyear</th>\n",
       "      <th>censustractandblock</th>\n",
       "      <th>propertylandusedesc</th>\n",
       "      <th>fips_Orange County CA</th>\n",
       "      <th>fips_Ventura County CA</th>\n",
       "      <th>rooms_count</th>\n",
       "    </tr>\n",
       "  </thead>\n",
       "  <tbody>\n",
       "    <tr>\n",
       "      <th>17927</th>\n",
       "      <td>261.0</td>\n",
       "      <td>17136492</td>\n",
       "      <td>26716</td>\n",
       "      <td>0.026585</td>\n",
       "      <td>2017-04-14</td>\n",
       "      <td>567409</td>\n",
       "      <td>NaN</td>\n",
       "      <td>NaN</td>\n",
       "      <td>NaN</td>\n",
       "      <td>2.0</td>\n",
       "      <td>...</td>\n",
       "      <td>2016.0</td>\n",
       "      <td>35133.0</td>\n",
       "      <td>1579.36</td>\n",
       "      <td>NaN</td>\n",
       "      <td>NaN</td>\n",
       "      <td>6.111005e+13</td>\n",
       "      <td>Single Family Residential</td>\n",
       "      <td>0</td>\n",
       "      <td>1</td>\n",
       "      <td>6.0</td>\n",
       "    </tr>\n",
       "    <tr>\n",
       "      <th>32344</th>\n",
       "      <td>261.0</td>\n",
       "      <td>11165912</td>\n",
       "      <td>47884</td>\n",
       "      <td>0.018149</td>\n",
       "      <td>2017-06-19</td>\n",
       "      <td>107381</td>\n",
       "      <td>1.0</td>\n",
       "      <td>NaN</td>\n",
       "      <td>NaN</td>\n",
       "      <td>3.0</td>\n",
       "      <td>...</td>\n",
       "      <td>2016.0</td>\n",
       "      <td>159362.0</td>\n",
       "      <td>5343.15</td>\n",
       "      <td>NaN</td>\n",
       "      <td>NaN</td>\n",
       "      <td>6.037920e+13</td>\n",
       "      <td>Single Family Residential</td>\n",
       "      <td>0</td>\n",
       "      <td>0</td>\n",
       "      <td>8.0</td>\n",
       "    </tr>\n",
       "    <tr>\n",
       "      <th>37064</th>\n",
       "      <td>261.0</td>\n",
       "      <td>11194874</td>\n",
       "      <td>54759</td>\n",
       "      <td>0.011635</td>\n",
       "      <td>2017-07-07</td>\n",
       "      <td>629574</td>\n",
       "      <td>1.0</td>\n",
       "      <td>NaN</td>\n",
       "      <td>NaN</td>\n",
       "      <td>2.0</td>\n",
       "      <td>...</td>\n",
       "      <td>2016.0</td>\n",
       "      <td>37757.0</td>\n",
       "      <td>3821.93</td>\n",
       "      <td>NaN</td>\n",
       "      <td>NaN</td>\n",
       "      <td>6.037910e+13</td>\n",
       "      <td>Single Family Residential</td>\n",
       "      <td>0</td>\n",
       "      <td>0</td>\n",
       "      <td>6.0</td>\n",
       "    </tr>\n",
       "    <tr>\n",
       "      <th>39303</th>\n",
       "      <td>261.0</td>\n",
       "      <td>13869630</td>\n",
       "      <td>58049</td>\n",
       "      <td>-0.066062</td>\n",
       "      <td>2017-07-18</td>\n",
       "      <td>1486924</td>\n",
       "      <td>NaN</td>\n",
       "      <td>NaN</td>\n",
       "      <td>NaN</td>\n",
       "      <td>1.0</td>\n",
       "      <td>...</td>\n",
       "      <td>2016.0</td>\n",
       "      <td>279830.0</td>\n",
       "      <td>4409.76</td>\n",
       "      <td>NaN</td>\n",
       "      <td>NaN</td>\n",
       "      <td>6.059011e+13</td>\n",
       "      <td>Single Family Residential</td>\n",
       "      <td>1</td>\n",
       "      <td>0</td>\n",
       "      <td>4.0</td>\n",
       "    </tr>\n",
       "    <tr>\n",
       "      <th>43129</th>\n",
       "      <td>261.0</td>\n",
       "      <td>11031366</td>\n",
       "      <td>63764</td>\n",
       "      <td>-0.029371</td>\n",
       "      <td>2017-08-04</td>\n",
       "      <td>2716339</td>\n",
       "      <td>NaN</td>\n",
       "      <td>NaN</td>\n",
       "      <td>NaN</td>\n",
       "      <td>2.0</td>\n",
       "      <td>...</td>\n",
       "      <td>2016.0</td>\n",
       "      <td>254015.0</td>\n",
       "      <td>4837.38</td>\n",
       "      <td>Y</td>\n",
       "      <td>14.0</td>\n",
       "      <td>6.037120e+13</td>\n",
       "      <td>Single Family Residential</td>\n",
       "      <td>0</td>\n",
       "      <td>0</td>\n",
       "      <td>5.0</td>\n",
       "    </tr>\n",
       "    <tr>\n",
       "      <th>...</th>\n",
       "      <td>...</td>\n",
       "      <td>...</td>\n",
       "      <td>...</td>\n",
       "      <td>...</td>\n",
       "      <td>...</td>\n",
       "      <td>...</td>\n",
       "      <td>...</td>\n",
       "      <td>...</td>\n",
       "      <td>...</td>\n",
       "      <td>...</td>\n",
       "      <td>...</td>\n",
       "      <td>...</td>\n",
       "      <td>...</td>\n",
       "      <td>...</td>\n",
       "      <td>...</td>\n",
       "      <td>...</td>\n",
       "      <td>...</td>\n",
       "      <td>...</td>\n",
       "      <td>...</td>\n",
       "      <td>...</td>\n",
       "      <td>...</td>\n",
       "    </tr>\n",
       "    <tr>\n",
       "      <th>10420</th>\n",
       "      <td>261.0</td>\n",
       "      <td>14379210</td>\n",
       "      <td>15550</td>\n",
       "      <td>0.058656</td>\n",
       "      <td>2017-03-08</td>\n",
       "      <td>1996102</td>\n",
       "      <td>NaN</td>\n",
       "      <td>NaN</td>\n",
       "      <td>NaN</td>\n",
       "      <td>2.0</td>\n",
       "      <td>...</td>\n",
       "      <td>2016.0</td>\n",
       "      <td>143533.0</td>\n",
       "      <td>3132.08</td>\n",
       "      <td>NaN</td>\n",
       "      <td>NaN</td>\n",
       "      <td>6.059032e+13</td>\n",
       "      <td>Single Family Residential</td>\n",
       "      <td>1</td>\n",
       "      <td>0</td>\n",
       "      <td>7.0</td>\n",
       "    </tr>\n",
       "    <tr>\n",
       "      <th>11779</th>\n",
       "      <td>261.0</td>\n",
       "      <td>14152759</td>\n",
       "      <td>17501</td>\n",
       "      <td>0.129789</td>\n",
       "      <td>2017-03-16</td>\n",
       "      <td>1368848</td>\n",
       "      <td>NaN</td>\n",
       "      <td>NaN</td>\n",
       "      <td>NaN</td>\n",
       "      <td>2.0</td>\n",
       "      <td>...</td>\n",
       "      <td>2016.0</td>\n",
       "      <td>140792.0</td>\n",
       "      <td>2650.72</td>\n",
       "      <td>NaN</td>\n",
       "      <td>NaN</td>\n",
       "      <td>6.059001e+13</td>\n",
       "      <td>Single Family Residential</td>\n",
       "      <td>1</td>\n",
       "      <td>0</td>\n",
       "      <td>4.0</td>\n",
       "    </tr>\n",
       "    <tr>\n",
       "      <th>36187</th>\n",
       "      <td>261.0</td>\n",
       "      <td>12132998</td>\n",
       "      <td>53462</td>\n",
       "      <td>-0.033549</td>\n",
       "      <td>2017-06-30</td>\n",
       "      <td>2973664</td>\n",
       "      <td>NaN</td>\n",
       "      <td>NaN</td>\n",
       "      <td>NaN</td>\n",
       "      <td>1.0</td>\n",
       "      <td>...</td>\n",
       "      <td>2016.0</td>\n",
       "      <td>27730.0</td>\n",
       "      <td>516.15</td>\n",
       "      <td>NaN</td>\n",
       "      <td>NaN</td>\n",
       "      <td>6.037431e+13</td>\n",
       "      <td>Single Family Residential</td>\n",
       "      <td>0</td>\n",
       "      <td>0</td>\n",
       "      <td>3.0</td>\n",
       "    </tr>\n",
       "    <tr>\n",
       "      <th>8813</th>\n",
       "      <td>261.0</td>\n",
       "      <td>11276615</td>\n",
       "      <td>13184</td>\n",
       "      <td>0.004899</td>\n",
       "      <td>2017-02-28</td>\n",
       "      <td>987689</td>\n",
       "      <td>1.0</td>\n",
       "      <td>NaN</td>\n",
       "      <td>NaN</td>\n",
       "      <td>3.0</td>\n",
       "      <td>...</td>\n",
       "      <td>2016.0</td>\n",
       "      <td>42400.0</td>\n",
       "      <td>3400.41</td>\n",
       "      <td>NaN</td>\n",
       "      <td>NaN</td>\n",
       "      <td>6.037901e+13</td>\n",
       "      <td>Single Family Residential</td>\n",
       "      <td>0</td>\n",
       "      <td>0</td>\n",
       "      <td>7.0</td>\n",
       "    </tr>\n",
       "    <tr>\n",
       "      <th>49719</th>\n",
       "      <td>261.0</td>\n",
       "      <td>14197529</td>\n",
       "      <td>73558</td>\n",
       "      <td>0.001671</td>\n",
       "      <td>2017-09-05</td>\n",
       "      <td>1055509</td>\n",
       "      <td>13.0</td>\n",
       "      <td>NaN</td>\n",
       "      <td>NaN</td>\n",
       "      <td>2.5</td>\n",
       "      <td>...</td>\n",
       "      <td>2016.0</td>\n",
       "      <td>346000.0</td>\n",
       "      <td>5246.34</td>\n",
       "      <td>NaN</td>\n",
       "      <td>NaN</td>\n",
       "      <td>6.059022e+13</td>\n",
       "      <td>Single Family Residential</td>\n",
       "      <td>1</td>\n",
       "      <td>0</td>\n",
       "      <td>5.5</td>\n",
       "    </tr>\n",
       "  </tbody>\n",
       "</table>\n",
       "<p>25950 rows × 66 columns</p>\n",
       "</div>"
      ],
      "text/plain": [
       "       propertylandusetypeid  parcelid     id  logerror transactiondate  \\\n",
       "17927                  261.0  17136492  26716  0.026585      2017-04-14   \n",
       "32344                  261.0  11165912  47884  0.018149      2017-06-19   \n",
       "37064                  261.0  11194874  54759  0.011635      2017-07-07   \n",
       "39303                  261.0  13869630  58049 -0.066062      2017-07-18   \n",
       "43129                  261.0  11031366  63764 -0.029371      2017-08-04   \n",
       "...                      ...       ...    ...       ...             ...   \n",
       "10420                  261.0  14379210  15550  0.058656      2017-03-08   \n",
       "11779                  261.0  14152759  17501  0.129789      2017-03-16   \n",
       "36187                  261.0  12132998  53462 -0.033549      2017-06-30   \n",
       "8813                   261.0  11276615  13184  0.004899      2017-02-28   \n",
       "49719                  261.0  14197529  73558  0.001671      2017-09-05   \n",
       "\n",
       "          id.1  airconditioningtypeid  architecturalstyletypeid  basementsqft  \\\n",
       "17927   567409                    NaN                       NaN           NaN   \n",
       "32344   107381                    1.0                       NaN           NaN   \n",
       "37064   629574                    1.0                       NaN           NaN   \n",
       "39303  1486924                    NaN                       NaN           NaN   \n",
       "43129  2716339                    NaN                       NaN           NaN   \n",
       "...        ...                    ...                       ...           ...   \n",
       "10420  1996102                    NaN                       NaN           NaN   \n",
       "11779  1368848                    NaN                       NaN           NaN   \n",
       "36187  2973664                    NaN                       NaN           NaN   \n",
       "8813    987689                    1.0                       NaN           NaN   \n",
       "49719  1055509                   13.0                       NaN           NaN   \n",
       "\n",
       "       baths  ...  assessmentyear  landtaxvaluedollarcnt  taxamount  \\\n",
       "17927    2.0  ...          2016.0                35133.0    1579.36   \n",
       "32344    3.0  ...          2016.0               159362.0    5343.15   \n",
       "37064    2.0  ...          2016.0                37757.0    3821.93   \n",
       "39303    1.0  ...          2016.0               279830.0    4409.76   \n",
       "43129    2.0  ...          2016.0               254015.0    4837.38   \n",
       "...      ...  ...             ...                    ...        ...   \n",
       "10420    2.0  ...          2016.0               143533.0    3132.08   \n",
       "11779    2.0  ...          2016.0               140792.0    2650.72   \n",
       "36187    1.0  ...          2016.0                27730.0     516.15   \n",
       "8813     3.0  ...          2016.0                42400.0    3400.41   \n",
       "49719    2.5  ...          2016.0               346000.0    5246.34   \n",
       "\n",
       "       taxdelinquencyflag  taxdelinquencyyear  censustractandblock  \\\n",
       "17927                 NaN                 NaN         6.111005e+13   \n",
       "32344                 NaN                 NaN         6.037920e+13   \n",
       "37064                 NaN                 NaN         6.037910e+13   \n",
       "39303                 NaN                 NaN         6.059011e+13   \n",
       "43129                   Y                14.0         6.037120e+13   \n",
       "...                   ...                 ...                  ...   \n",
       "10420                 NaN                 NaN         6.059032e+13   \n",
       "11779                 NaN                 NaN         6.059001e+13   \n",
       "36187                 NaN                 NaN         6.037431e+13   \n",
       "8813                  NaN                 NaN         6.037901e+13   \n",
       "49719                 NaN                 NaN         6.059022e+13   \n",
       "\n",
       "             propertylandusedesc  fips_Orange County CA  \\\n",
       "17927  Single Family Residential                      0   \n",
       "32344  Single Family Residential                      0   \n",
       "37064  Single Family Residential                      0   \n",
       "39303  Single Family Residential                      1   \n",
       "43129  Single Family Residential                      0   \n",
       "...                          ...                    ...   \n",
       "10420  Single Family Residential                      1   \n",
       "11779  Single Family Residential                      1   \n",
       "36187  Single Family Residential                      0   \n",
       "8813   Single Family Residential                      0   \n",
       "49719  Single Family Residential                      1   \n",
       "\n",
       "       fips_Ventura County CA  rooms_count  \n",
       "17927                       1          6.0  \n",
       "32344                       0          8.0  \n",
       "37064                       0          6.0  \n",
       "39303                       0          4.0  \n",
       "43129                       0          5.0  \n",
       "...                       ...          ...  \n",
       "10420                       0          7.0  \n",
       "11779                       0          4.0  \n",
       "36187                       0          3.0  \n",
       "8813                        0          7.0  \n",
       "49719                       0          5.5  \n",
       "\n",
       "[25950 rows x 66 columns]"
      ]
     },
     "execution_count": 7,
     "metadata": {},
     "output_type": "execute_result"
    }
   ],
   "source": [
    "train['rooms_count']= train['baths']+train['beds']\n",
    "\n",
    "train"
   ]
  },
  {
   "cell_type": "code",
   "execution_count": 8,
   "id": "aeacc14b",
   "metadata": {},
   "outputs": [],
   "source": [
    "# reset index \n",
    "train=train.reset_index()"
   ]
  },
  {
   "cell_type": "code",
   "execution_count": 9,
   "id": "b2c5568f",
   "metadata": {},
   "outputs": [
    {
     "data": {
      "text/html": [
       "<div>\n",
       "<style scoped>\n",
       "    .dataframe tbody tr th:only-of-type {\n",
       "        vertical-align: middle;\n",
       "    }\n",
       "\n",
       "    .dataframe tbody tr th {\n",
       "        vertical-align: top;\n",
       "    }\n",
       "\n",
       "    .dataframe thead th {\n",
       "        text-align: right;\n",
       "    }\n",
       "</style>\n",
       "<table border=\"1\" class=\"dataframe\">\n",
       "  <thead>\n",
       "    <tr style=\"text-align: right;\">\n",
       "      <th></th>\n",
       "      <th>index</th>\n",
       "      <th>propertylandusetypeid</th>\n",
       "      <th>parcelid</th>\n",
       "      <th>id</th>\n",
       "      <th>logerror</th>\n",
       "      <th>transactiondate</th>\n",
       "      <th>id.1</th>\n",
       "      <th>airconditioningtypeid</th>\n",
       "      <th>architecturalstyletypeid</th>\n",
       "      <th>basementsqft</th>\n",
       "      <th>...</th>\n",
       "      <th>assessmentyear</th>\n",
       "      <th>landtaxvaluedollarcnt</th>\n",
       "      <th>taxamount</th>\n",
       "      <th>taxdelinquencyflag</th>\n",
       "      <th>taxdelinquencyyear</th>\n",
       "      <th>censustractandblock</th>\n",
       "      <th>propertylandusedesc</th>\n",
       "      <th>fips_Orange County CA</th>\n",
       "      <th>fips_Ventura County CA</th>\n",
       "      <th>rooms_count</th>\n",
       "    </tr>\n",
       "  </thead>\n",
       "  <tbody>\n",
       "    <tr>\n",
       "      <th>0</th>\n",
       "      <td>17927</td>\n",
       "      <td>261.0</td>\n",
       "      <td>17136492</td>\n",
       "      <td>26716</td>\n",
       "      <td>0.026585</td>\n",
       "      <td>2017-04-14</td>\n",
       "      <td>567409</td>\n",
       "      <td>NaN</td>\n",
       "      <td>NaN</td>\n",
       "      <td>NaN</td>\n",
       "      <td>...</td>\n",
       "      <td>2016.0</td>\n",
       "      <td>35133.0</td>\n",
       "      <td>1579.36</td>\n",
       "      <td>NaN</td>\n",
       "      <td>NaN</td>\n",
       "      <td>6.111005e+13</td>\n",
       "      <td>Single Family Residential</td>\n",
       "      <td>0</td>\n",
       "      <td>1</td>\n",
       "      <td>6.0</td>\n",
       "    </tr>\n",
       "    <tr>\n",
       "      <th>1</th>\n",
       "      <td>32344</td>\n",
       "      <td>261.0</td>\n",
       "      <td>11165912</td>\n",
       "      <td>47884</td>\n",
       "      <td>0.018149</td>\n",
       "      <td>2017-06-19</td>\n",
       "      <td>107381</td>\n",
       "      <td>1.0</td>\n",
       "      <td>NaN</td>\n",
       "      <td>NaN</td>\n",
       "      <td>...</td>\n",
       "      <td>2016.0</td>\n",
       "      <td>159362.0</td>\n",
       "      <td>5343.15</td>\n",
       "      <td>NaN</td>\n",
       "      <td>NaN</td>\n",
       "      <td>6.037920e+13</td>\n",
       "      <td>Single Family Residential</td>\n",
       "      <td>0</td>\n",
       "      <td>0</td>\n",
       "      <td>8.0</td>\n",
       "    </tr>\n",
       "    <tr>\n",
       "      <th>2</th>\n",
       "      <td>37064</td>\n",
       "      <td>261.0</td>\n",
       "      <td>11194874</td>\n",
       "      <td>54759</td>\n",
       "      <td>0.011635</td>\n",
       "      <td>2017-07-07</td>\n",
       "      <td>629574</td>\n",
       "      <td>1.0</td>\n",
       "      <td>NaN</td>\n",
       "      <td>NaN</td>\n",
       "      <td>...</td>\n",
       "      <td>2016.0</td>\n",
       "      <td>37757.0</td>\n",
       "      <td>3821.93</td>\n",
       "      <td>NaN</td>\n",
       "      <td>NaN</td>\n",
       "      <td>6.037910e+13</td>\n",
       "      <td>Single Family Residential</td>\n",
       "      <td>0</td>\n",
       "      <td>0</td>\n",
       "      <td>6.0</td>\n",
       "    </tr>\n",
       "    <tr>\n",
       "      <th>3</th>\n",
       "      <td>39303</td>\n",
       "      <td>261.0</td>\n",
       "      <td>13869630</td>\n",
       "      <td>58049</td>\n",
       "      <td>-0.066062</td>\n",
       "      <td>2017-07-18</td>\n",
       "      <td>1486924</td>\n",
       "      <td>NaN</td>\n",
       "      <td>NaN</td>\n",
       "      <td>NaN</td>\n",
       "      <td>...</td>\n",
       "      <td>2016.0</td>\n",
       "      <td>279830.0</td>\n",
       "      <td>4409.76</td>\n",
       "      <td>NaN</td>\n",
       "      <td>NaN</td>\n",
       "      <td>6.059011e+13</td>\n",
       "      <td>Single Family Residential</td>\n",
       "      <td>1</td>\n",
       "      <td>0</td>\n",
       "      <td>4.0</td>\n",
       "    </tr>\n",
       "    <tr>\n",
       "      <th>4</th>\n",
       "      <td>43129</td>\n",
       "      <td>261.0</td>\n",
       "      <td>11031366</td>\n",
       "      <td>63764</td>\n",
       "      <td>-0.029371</td>\n",
       "      <td>2017-08-04</td>\n",
       "      <td>2716339</td>\n",
       "      <td>NaN</td>\n",
       "      <td>NaN</td>\n",
       "      <td>NaN</td>\n",
       "      <td>...</td>\n",
       "      <td>2016.0</td>\n",
       "      <td>254015.0</td>\n",
       "      <td>4837.38</td>\n",
       "      <td>Y</td>\n",
       "      <td>14.0</td>\n",
       "      <td>6.037120e+13</td>\n",
       "      <td>Single Family Residential</td>\n",
       "      <td>0</td>\n",
       "      <td>0</td>\n",
       "      <td>5.0</td>\n",
       "    </tr>\n",
       "    <tr>\n",
       "      <th>...</th>\n",
       "      <td>...</td>\n",
       "      <td>...</td>\n",
       "      <td>...</td>\n",
       "      <td>...</td>\n",
       "      <td>...</td>\n",
       "      <td>...</td>\n",
       "      <td>...</td>\n",
       "      <td>...</td>\n",
       "      <td>...</td>\n",
       "      <td>...</td>\n",
       "      <td>...</td>\n",
       "      <td>...</td>\n",
       "      <td>...</td>\n",
       "      <td>...</td>\n",
       "      <td>...</td>\n",
       "      <td>...</td>\n",
       "      <td>...</td>\n",
       "      <td>...</td>\n",
       "      <td>...</td>\n",
       "      <td>...</td>\n",
       "      <td>...</td>\n",
       "    </tr>\n",
       "    <tr>\n",
       "      <th>25945</th>\n",
       "      <td>10420</td>\n",
       "      <td>261.0</td>\n",
       "      <td>14379210</td>\n",
       "      <td>15550</td>\n",
       "      <td>0.058656</td>\n",
       "      <td>2017-03-08</td>\n",
       "      <td>1996102</td>\n",
       "      <td>NaN</td>\n",
       "      <td>NaN</td>\n",
       "      <td>NaN</td>\n",
       "      <td>...</td>\n",
       "      <td>2016.0</td>\n",
       "      <td>143533.0</td>\n",
       "      <td>3132.08</td>\n",
       "      <td>NaN</td>\n",
       "      <td>NaN</td>\n",
       "      <td>6.059032e+13</td>\n",
       "      <td>Single Family Residential</td>\n",
       "      <td>1</td>\n",
       "      <td>0</td>\n",
       "      <td>7.0</td>\n",
       "    </tr>\n",
       "    <tr>\n",
       "      <th>25946</th>\n",
       "      <td>11779</td>\n",
       "      <td>261.0</td>\n",
       "      <td>14152759</td>\n",
       "      <td>17501</td>\n",
       "      <td>0.129789</td>\n",
       "      <td>2017-03-16</td>\n",
       "      <td>1368848</td>\n",
       "      <td>NaN</td>\n",
       "      <td>NaN</td>\n",
       "      <td>NaN</td>\n",
       "      <td>...</td>\n",
       "      <td>2016.0</td>\n",
       "      <td>140792.0</td>\n",
       "      <td>2650.72</td>\n",
       "      <td>NaN</td>\n",
       "      <td>NaN</td>\n",
       "      <td>6.059001e+13</td>\n",
       "      <td>Single Family Residential</td>\n",
       "      <td>1</td>\n",
       "      <td>0</td>\n",
       "      <td>4.0</td>\n",
       "    </tr>\n",
       "    <tr>\n",
       "      <th>25947</th>\n",
       "      <td>36187</td>\n",
       "      <td>261.0</td>\n",
       "      <td>12132998</td>\n",
       "      <td>53462</td>\n",
       "      <td>-0.033549</td>\n",
       "      <td>2017-06-30</td>\n",
       "      <td>2973664</td>\n",
       "      <td>NaN</td>\n",
       "      <td>NaN</td>\n",
       "      <td>NaN</td>\n",
       "      <td>...</td>\n",
       "      <td>2016.0</td>\n",
       "      <td>27730.0</td>\n",
       "      <td>516.15</td>\n",
       "      <td>NaN</td>\n",
       "      <td>NaN</td>\n",
       "      <td>6.037431e+13</td>\n",
       "      <td>Single Family Residential</td>\n",
       "      <td>0</td>\n",
       "      <td>0</td>\n",
       "      <td>3.0</td>\n",
       "    </tr>\n",
       "    <tr>\n",
       "      <th>25948</th>\n",
       "      <td>8813</td>\n",
       "      <td>261.0</td>\n",
       "      <td>11276615</td>\n",
       "      <td>13184</td>\n",
       "      <td>0.004899</td>\n",
       "      <td>2017-02-28</td>\n",
       "      <td>987689</td>\n",
       "      <td>1.0</td>\n",
       "      <td>NaN</td>\n",
       "      <td>NaN</td>\n",
       "      <td>...</td>\n",
       "      <td>2016.0</td>\n",
       "      <td>42400.0</td>\n",
       "      <td>3400.41</td>\n",
       "      <td>NaN</td>\n",
       "      <td>NaN</td>\n",
       "      <td>6.037901e+13</td>\n",
       "      <td>Single Family Residential</td>\n",
       "      <td>0</td>\n",
       "      <td>0</td>\n",
       "      <td>7.0</td>\n",
       "    </tr>\n",
       "    <tr>\n",
       "      <th>25949</th>\n",
       "      <td>49719</td>\n",
       "      <td>261.0</td>\n",
       "      <td>14197529</td>\n",
       "      <td>73558</td>\n",
       "      <td>0.001671</td>\n",
       "      <td>2017-09-05</td>\n",
       "      <td>1055509</td>\n",
       "      <td>13.0</td>\n",
       "      <td>NaN</td>\n",
       "      <td>NaN</td>\n",
       "      <td>...</td>\n",
       "      <td>2016.0</td>\n",
       "      <td>346000.0</td>\n",
       "      <td>5246.34</td>\n",
       "      <td>NaN</td>\n",
       "      <td>NaN</td>\n",
       "      <td>6.059022e+13</td>\n",
       "      <td>Single Family Residential</td>\n",
       "      <td>1</td>\n",
       "      <td>0</td>\n",
       "      <td>5.5</td>\n",
       "    </tr>\n",
       "  </tbody>\n",
       "</table>\n",
       "<p>25950 rows × 67 columns</p>\n",
       "</div>"
      ],
      "text/plain": [
       "       index  propertylandusetypeid  parcelid     id  logerror  \\\n",
       "0      17927                  261.0  17136492  26716  0.026585   \n",
       "1      32344                  261.0  11165912  47884  0.018149   \n",
       "2      37064                  261.0  11194874  54759  0.011635   \n",
       "3      39303                  261.0  13869630  58049 -0.066062   \n",
       "4      43129                  261.0  11031366  63764 -0.029371   \n",
       "...      ...                    ...       ...    ...       ...   \n",
       "25945  10420                  261.0  14379210  15550  0.058656   \n",
       "25946  11779                  261.0  14152759  17501  0.129789   \n",
       "25947  36187                  261.0  12132998  53462 -0.033549   \n",
       "25948   8813                  261.0  11276615  13184  0.004899   \n",
       "25949  49719                  261.0  14197529  73558  0.001671   \n",
       "\n",
       "      transactiondate     id.1  airconditioningtypeid  \\\n",
       "0          2017-04-14   567409                    NaN   \n",
       "1          2017-06-19   107381                    1.0   \n",
       "2          2017-07-07   629574                    1.0   \n",
       "3          2017-07-18  1486924                    NaN   \n",
       "4          2017-08-04  2716339                    NaN   \n",
       "...               ...      ...                    ...   \n",
       "25945      2017-03-08  1996102                    NaN   \n",
       "25946      2017-03-16  1368848                    NaN   \n",
       "25947      2017-06-30  2973664                    NaN   \n",
       "25948      2017-02-28   987689                    1.0   \n",
       "25949      2017-09-05  1055509                   13.0   \n",
       "\n",
       "       architecturalstyletypeid  basementsqft  ...  assessmentyear  \\\n",
       "0                           NaN           NaN  ...          2016.0   \n",
       "1                           NaN           NaN  ...          2016.0   \n",
       "2                           NaN           NaN  ...          2016.0   \n",
       "3                           NaN           NaN  ...          2016.0   \n",
       "4                           NaN           NaN  ...          2016.0   \n",
       "...                         ...           ...  ...             ...   \n",
       "25945                       NaN           NaN  ...          2016.0   \n",
       "25946                       NaN           NaN  ...          2016.0   \n",
       "25947                       NaN           NaN  ...          2016.0   \n",
       "25948                       NaN           NaN  ...          2016.0   \n",
       "25949                       NaN           NaN  ...          2016.0   \n",
       "\n",
       "       landtaxvaluedollarcnt  taxamount  taxdelinquencyflag  \\\n",
       "0                    35133.0    1579.36                 NaN   \n",
       "1                   159362.0    5343.15                 NaN   \n",
       "2                    37757.0    3821.93                 NaN   \n",
       "3                   279830.0    4409.76                 NaN   \n",
       "4                   254015.0    4837.38                   Y   \n",
       "...                      ...        ...                 ...   \n",
       "25945               143533.0    3132.08                 NaN   \n",
       "25946               140792.0    2650.72                 NaN   \n",
       "25947                27730.0     516.15                 NaN   \n",
       "25948                42400.0    3400.41                 NaN   \n",
       "25949               346000.0    5246.34                 NaN   \n",
       "\n",
       "       taxdelinquencyyear  censustractandblock        propertylandusedesc  \\\n",
       "0                     NaN         6.111005e+13  Single Family Residential   \n",
       "1                     NaN         6.037920e+13  Single Family Residential   \n",
       "2                     NaN         6.037910e+13  Single Family Residential   \n",
       "3                     NaN         6.059011e+13  Single Family Residential   \n",
       "4                    14.0         6.037120e+13  Single Family Residential   \n",
       "...                   ...                  ...                        ...   \n",
       "25945                 NaN         6.059032e+13  Single Family Residential   \n",
       "25946                 NaN         6.059001e+13  Single Family Residential   \n",
       "25947                 NaN         6.037431e+13  Single Family Residential   \n",
       "25948                 NaN         6.037901e+13  Single Family Residential   \n",
       "25949                 NaN         6.059022e+13  Single Family Residential   \n",
       "\n",
       "       fips_Orange County CA  fips_Ventura County CA  rooms_count  \n",
       "0                          0                       1          6.0  \n",
       "1                          0                       0          8.0  \n",
       "2                          0                       0          6.0  \n",
       "3                          1                       0          4.0  \n",
       "4                          0                       0          5.0  \n",
       "...                      ...                     ...          ...  \n",
       "25945                      1                       0          7.0  \n",
       "25946                      1                       0          4.0  \n",
       "25947                      0                       0          3.0  \n",
       "25948                      0                       0          7.0  \n",
       "25949                      1                       0          5.5  \n",
       "\n",
       "[25950 rows x 67 columns]"
      ]
     },
     "execution_count": 9,
     "metadata": {},
     "output_type": "execute_result"
    }
   ],
   "source": [
    "train"
   ]
  },
  {
   "cell_type": "code",
   "execution_count": 10,
   "id": "05bba01d",
   "metadata": {},
   "outputs": [],
   "source": [
    "#Rounding up in rooms count \n",
    "train['rooms_count'] = train['rooms_count'].apply(np.ceil)"
   ]
  },
  {
   "cell_type": "markdown",
   "id": "6c7d7cb3",
   "metadata": {},
   "source": [
    "### What is the median and mean home price? "
   ]
  },
  {
   "cell_type": "code",
   "execution_count": 11,
   "id": "612237ba",
   "metadata": {},
   "outputs": [
    {
     "data": {
      "text/plain": [
       "<AxesSubplot:>"
      ]
     },
     "execution_count": 11,
     "metadata": {},
     "output_type": "execute_result"
    },
    {
     "data": {
      "image/png": "[encoded data removed]",
      "text/plain": [
       "<Figure size 432x288 with 1 Axes>"
      ]
     },
     "metadata": {
      "needs_background": "light"
     },
     "output_type": "display_data"
    }
   ],
   "source": [
    "train.property_value.hist()"
   ]
  },
  {
   "cell_type": "code",
   "execution_count": 12,
   "id": "d717c842",
   "metadata": {
    "scrolled": true
   },
   "outputs": [
    {
     "data": {
      "text/plain": [
       "335496.0"
      ]
     },
     "execution_count": 12,
     "metadata": {},
     "output_type": "execute_result"
    }
   ],
   "source": [
    "#calculating median of property values \n",
    "median = train.property_value.median()\n",
    "median"
   ]
  },
  {
   "cell_type": "code",
   "execution_count": 13,
   "id": "bcae7050",
   "metadata": {},
   "outputs": [
    {
     "data": {
      "text/plain": [
       "406688.7585741811"
      ]
     },
     "execution_count": 13,
     "metadata": {},
     "output_type": "execute_result"
    }
   ],
   "source": [
    "#calculating mean of property values \n",
    "mean = train.property_value.mean()\n",
    "mean"
   ]
  },
  {
   "cell_type": "code",
   "execution_count": 14,
   "id": "7c7df3ba",
   "metadata": {},
   "outputs": [
    {
     "data": {
      "text/plain": [
       "71192.75857418112"
      ]
     },
     "execution_count": 14,
     "metadata": {},
     "output_type": "execute_result"
    }
   ],
   "source": [
    "# difference between mean and median \n",
    "difference = mean - median\n",
    "\n",
    "difference"
   ]
  },
  {
   "cell_type": "code",
   "execution_count": 15,
   "id": "d7488f14",
   "metadata": {},
   "outputs": [
    {
     "data": {
      "text/plain": [
       "10873908.0"
      ]
     },
     "execution_count": 15,
     "metadata": {},
     "output_type": "execute_result"
    }
   ],
   "source": [
    "# most expensive property value \n",
    "train.property_value.max()"
   ]
  },
  {
   "cell_type": "markdown",
   "id": "b3225e9e",
   "metadata": {},
   "source": [
    "### Takeaways\n",
    "\n",
    "- The median property value is 370,301\n",
    "- The mean property value is 516,153\n",
    "- The difference between these values is 145,852\n",
    "- 50% of home values are above or below the median \n",
    "- Mean is higher than median most likely due to outlier home prices"
   ]
  },
  {
   "cell_type": "markdown",
   "id": "5758f0c0",
   "metadata": {},
   "source": [
    "### Is there a significant difference in mean property value across Los Angeles, Ventura County and Orange County?  "
   ]
  },
  {
   "cell_type": "code",
   "execution_count": 16,
   "id": "c158402e",
   "metadata": {},
   "outputs": [
    {
     "data": {
      "text/plain": [
       "[Text(0.5, 1.0, 'Spread of Home Prices')]"
      ]
     },
     "execution_count": 16,
     "metadata": {},
     "output_type": "execute_result"
    },
    {
     "data": {
      "image/png": "[encoded data removed]",
      "text/plain": [
       "<Figure size 432x288 with 1 Axes>"
      ]
     },
     "metadata": {
      "needs_background": "light"
     },
     "output_type": "display_data"
    }
   ],
   "source": [
    "# box plot Fips vs Property value \n",
    "sns.boxplot(data=train, x='fips', y='property_value').set(title='Spread of Home Prices')\n"
   ]
  },
  {
   "cell_type": "markdown",
   "id": "ce358d20",
   "metadata": {},
   "source": [
    "### Chart Takeaways \n",
    "- Difficult to verify prices but you can see there is a wider spread of home prices in Los angelese california compared to other counties.\n",
    "- Orange County has the second largest spread \n",
    "- Ventura County has the smallest spread of home prices \n"
   ]
  },
  {
   "cell_type": "markdown",
   "id": "94c088fd",
   "metadata": {},
   "source": [
    "### Hypothesis\n",
    "\n",
    "**Ho: There is no difference in mean property values across Los Angeles County, Ventura County and Orange County.**<br>\n",
    "**Ha: There is a significant difference in mean property values across Los Angeles County, Ventura County and Orange County.** "
   ]
  },
  {
   "cell_type": "code",
   "execution_count": 17,
   "id": "04a60889",
   "metadata": {},
   "outputs": [
    {
     "data": {
      "text/plain": [
       "Los Angeles CA       17145\n",
       "Orange County CA      6684\n",
       "Ventura County CA     2121\n",
       "Name: fips, dtype: int64"
      ]
     },
     "execution_count": 17,
     "metadata": {},
     "output_type": "execute_result"
    }
   ],
   "source": [
    "# Count of properties in each County\n",
    "train.fips.value_counts()"
   ]
  },
  {
   "cell_type": "code",
   "execution_count": 18,
   "id": "7f9b2281",
   "metadata": {},
   "outputs": [],
   "source": [
    "la = train[train.fips == 'Los Angeles CA'].property_value\n",
    "oc = train[train.fips == 'Orange County CA'].property_value\n",
    "vc = train[train.fips == 'Ventura County CA'].property_value"
   ]
  },
  {
   "cell_type": "code",
   "execution_count": 19,
   "id": "9162f3cb",
   "metadata": {},
   "outputs": [
    {
     "data": {
      "text/plain": [
       "<AxesSubplot:>"
      ]
     },
     "execution_count": 19,
     "metadata": {},
     "output_type": "execute_result"
    },
    {
     "data": {
      "image/png": "[encoded data removed]",
      "text/plain": [
       "<Figure size 432x288 with 1 Axes>"
      ]
     },
     "metadata": {
      "needs_background": "light"
     },
     "output_type": "display_data"
    }
   ],
   "source": [
    "# histogram of prices in La County\n",
    "la.hist()"
   ]
  },
  {
   "cell_type": "code",
   "execution_count": 20,
   "id": "f5b75e26",
   "metadata": {},
   "outputs": [
    {
     "data": {
      "text/plain": [
       "<AxesSubplot:>"
      ]
     },
     "execution_count": 20,
     "metadata": {},
     "output_type": "execute_result"
    },
    {
     "data": {
      "image/png": "[encoded data removed]",
      "text/plain": [
       "<Figure size 432x288 with 1 Axes>"
      ]
     },
     "metadata": {
      "needs_background": "light"
     },
     "output_type": "display_data"
    }
   ],
   "source": [
    "# histogram of prices in Orange County\n",
    "oc.hist()"
   ]
  },
  {
   "cell_type": "code",
   "execution_count": 21,
   "id": "733c9a57",
   "metadata": {},
   "outputs": [
    {
     "data": {
      "text/plain": [
       "<AxesSubplot:>"
      ]
     },
     "execution_count": 21,
     "metadata": {},
     "output_type": "execute_result"
    },
    {
     "data": {
      "image/png": "[encoded data removed]",
      "text/plain": [
       "<Figure size 432x288 with 1 Axes>"
      ]
     },
     "metadata": {
      "needs_background": "light"
     },
     "output_type": "display_data"
    }
   ],
   "source": [
    "# histogram of prices in Ventura County\n",
    "vc.hist()"
   ]
  },
  {
   "cell_type": "code",
   "execution_count": 22,
   "id": "1c3bdff7",
   "metadata": {},
   "outputs": [
    {
     "data": {
      "text/plain": [
       "160212611872.99872"
      ]
     },
     "execution_count": 22,
     "metadata": {},
     "output_type": "execute_result"
    }
   ],
   "source": [
    "# variance of prices in La County\n",
    "la.var()"
   ]
  },
  {
   "cell_type": "code",
   "execution_count": 23,
   "id": "96166d23",
   "metadata": {},
   "outputs": [
    {
     "data": {
      "text/plain": [
       "111769136803.31723"
      ]
     },
     "execution_count": 23,
     "metadata": {},
     "output_type": "execute_result"
    }
   ],
   "source": [
    "# variance of prices in Orange County\n",
    "oc.var()"
   ]
  },
  {
   "cell_type": "code",
   "execution_count": 24,
   "id": "e85d5f79",
   "metadata": {},
   "outputs": [
    {
     "data": {
      "text/plain": [
       "50149724275.63968"
      ]
     },
     "execution_count": 24,
     "metadata": {},
     "output_type": "execute_result"
    }
   ],
   "source": [
    "# variance of prices in Ventura County\n",
    "vc.var()"
   ]
  },
  {
   "cell_type": "code",
   "execution_count": 25,
   "id": "0cbbab9d",
   "metadata": {},
   "outputs": [
    {
     "data": {
      "text/plain": [
       "KruskalResult(statistic=845.3768766827094, pvalue=2.683759928119005e-184)"
      ]
     },
     "execution_count": 25,
     "metadata": {},
     "output_type": "execute_result"
    }
   ],
   "source": [
    "# results of statistical test \n",
    "stats.kruskal(la, oc, vc)"
   ]
  },
  {
   "cell_type": "markdown",
   "id": "d4939acf",
   "metadata": {},
   "source": [
    "### Takeaways \n",
    "- These prices are not normally distributed \n",
    "- Will use Kruskal-Wallis test since prices not normally distributed \n",
    "- Variances are not similar \n",
    "- There is a significant difference in the mean property value of the homes across Los Angeles, Ventura and Orange County \n"
   ]
  },
  {
   "cell_type": "markdown",
   "id": "3e331dae",
   "metadata": {},
   "source": [
    "### Is there a correlation between the sqft of a house and it's property value ?  "
   ]
  },
  {
   "cell_type": "code",
   "execution_count": 26,
   "id": "a078b05a",
   "metadata": {},
   "outputs": [
    {
     "data": {
      "text/plain": [
       "[Text(0.5, 1.0, 'Sqft and Value')]"
      ]
     },
     "execution_count": 26,
     "metadata": {},
     "output_type": "execute_result"
    },
    {
     "data": {
      "image/png": "[encoded data removed]",
      "text/plain": [
       "<Figure size 432x288 with 1 Axes>"
      ]
     },
     "metadata": {
      "needs_background": "light"
     },
     "output_type": "display_data"
    }
   ],
   "source": [
    "#visualization of sqft vs property value \n",
    "\n",
    "sns.regplot(x=\"sqft\",\n",
    "            y=\"property_value\", \n",
    "            data=train).set(title='Sqft and Value')\n"
   ]
  },
  {
   "cell_type": "markdown",
   "id": "335e4d42",
   "metadata": {},
   "source": [
    "### Chart Takeaways \n",
    "- Most homes are between 0 and 8,000 sqft \n",
    "- Most properties are under $1 million"
   ]
  },
  {
   "cell_type": "markdown",
   "id": "c7f24f45",
   "metadata": {},
   "source": [
    "### Hypothesis: \n",
    "\n",
    "**Ho: There is no correlation between home square footage and property value.**<br>\n",
    "**Ha: There is a correlation between home square footage and property value.** "
   ]
  },
  {
   "cell_type": "code",
   "execution_count": 27,
   "id": "46a57c35",
   "metadata": {},
   "outputs": [
    {
     "data": {
      "text/plain": [
       "(0.3613222696879478, 0.0)"
      ]
     },
     "execution_count": 27,
     "metadata": {},
     "output_type": "execute_result"
    }
   ],
   "source": [
    "# statistics test results \n",
    "corr, p = stats.pearsonr(train.sqft, train.property_value)\n",
    "\n",
    "corr, p"
   ]
  },
  {
   "cell_type": "markdown",
   "id": "f453aa14",
   "metadata": {},
   "source": [
    "### Takeaway from test \n",
    "- Test is significant and there is a positive correlation between home sqft and home price"
   ]
  },
  {
   "cell_type": "markdown",
   "id": "9b9a99d8",
   "metadata": {},
   "source": [
    "### Is there a correlation between the bedrooms  and property value ?  "
   ]
  },
  {
   "cell_type": "code",
   "execution_count": 28,
   "id": "8d16a82a",
   "metadata": {},
   "outputs": [
    {
     "data": {
      "text/plain": [
       "[Text(0.5, 1.0, 'Beds and Home Price')]"
      ]
     },
     "execution_count": 28,
     "metadata": {},
     "output_type": "execute_result"
    },
    {
     "data": {
      "image/png": "[encoded data removed]",
      "text/plain": [
       "<Figure size 432x288 with 1 Axes>"
      ]
     },
     "metadata": {
      "needs_background": "light"
     },
     "output_type": "display_data"
    }
   ],
   "source": [
    "# box plot Bedrooms vs Property value \n",
    "sns.boxplot(data=train, x='beds', y='property_value').set(title='Beds and Home Price')\n"
   ]
  },
  {
   "cell_type": "markdown",
   "id": "3166b856",
   "metadata": {},
   "source": [
    "### Takeaways \n",
    "\n",
    "- There are a lot of outliers in each category of bedrooms \n",
    "- Most properties fall into the category of having 2 to 6 bedrooms"
   ]
  },
  {
   "cell_type": "markdown",
   "id": "f2560f41",
   "metadata": {},
   "source": [
    "### Hypothesis: \n",
    "\n",
    "**Ho: There is no correlation between number of beds and property value.**<br>\n",
    "**Ha: There is a correlation between number of beds and property value.** \n"
   ]
  },
  {
   "cell_type": "code",
   "execution_count": 29,
   "id": "df4c8e24",
   "metadata": {},
   "outputs": [
    {
     "data": {
      "text/plain": [
       "(0.10976927105254083, 2.2310937823681123e-70)"
      ]
     },
     "execution_count": 29,
     "metadata": {},
     "output_type": "execute_result"
    }
   ],
   "source": [
    "# Statistical test results \n",
    "corr, p = stats.pearsonr(train.beds, train.property_value)\n",
    "\n",
    "corr, p"
   ]
  },
  {
   "cell_type": "markdown",
   "id": "94599e2b",
   "metadata": {},
   "source": [
    "### Takeaways \n",
    "- Bedrooms has a weak positive correlation to the property value "
   ]
  },
  {
   "cell_type": "markdown",
   "id": "ded898bd",
   "metadata": {},
   "source": [
    "### Is there a correlation between the bathrooms  and property value ?  "
   ]
  },
  {
   "cell_type": "code",
   "execution_count": 30,
   "id": "f58035bb",
   "metadata": {},
   "outputs": [
    {
     "data": {
      "text/plain": [
       "[Text(0.5, 1.0, 'Baths and Home Price')]"
      ]
     },
     "execution_count": 30,
     "metadata": {},
     "output_type": "execute_result"
    },
    {
     "data": {
      "image/png": "[encoded data removed]",
      "text/plain": [
       "<Figure size 432x288 with 1 Axes>"
      ]
     },
     "metadata": {
      "needs_background": "light"
     },
     "output_type": "display_data"
    }
   ],
   "source": [
    "# box plot Bathrooms vs Property value \n",
    "sns.boxplot(data=train, x='baths', y='property_value').set(title='Baths and Home Price')"
   ]
  },
  {
   "cell_type": "code",
   "execution_count": 31,
   "id": "117a5e9f",
   "metadata": {},
   "outputs": [
    {
     "data": {
      "text/plain": [
       "(0.30256024562018746, 0.0)"
      ]
     },
     "execution_count": 31,
     "metadata": {},
     "output_type": "execute_result"
    }
   ],
   "source": [
    "corr, p = stats.pearsonr(train.baths, train.property_value)\n",
    "\n",
    "corr, p"
   ]
  },
  {
   "cell_type": "markdown",
   "id": "1b3d650f",
   "metadata": {},
   "source": [
    "### Hypothesis: \n",
    "\n",
    "**Ho: There is no correlation between number of baths and property value.**<br>\n",
    "**Ha: There is a correlation between number of baths and property value.** \n"
   ]
  },
  {
   "cell_type": "markdown",
   "id": "26e3b7e4",
   "metadata": {},
   "source": [
    "### Takeaways\n",
    "\n",
    "There is a positive correlation between bathrooms and property value"
   ]
  },
  {
   "cell_type": "markdown",
   "id": "10f369d5",
   "metadata": {},
   "source": [
    "### Is there a correlation between the room count and property value ?  "
   ]
  },
  {
   "cell_type": "code",
   "execution_count": 32,
   "id": "49ec3a02",
   "metadata": {},
   "outputs": [
    {
     "data": {
      "text/plain": [
       "[Text(0.5, 1.0, 'Rooms and Home Price')]"
      ]
     },
     "execution_count": 32,
     "metadata": {},
     "output_type": "execute_result"
    },
    {
     "data": {
      "image/png": "[encoded data removed]",
      "text/plain": [
       "<Figure size 432x288 with 1 Axes>"
      ]
     },
     "metadata": {
      "needs_background": "light"
     },
     "output_type": "display_data"
    }
   ],
   "source": [
    "# box plot Bathrooms vs Property value \n",
    "sns.boxplot(data=train, x='rooms_count', y='property_value').set(title='Rooms and Home Price')"
   ]
  },
  {
   "cell_type": "markdown",
   "id": "5b226f87",
   "metadata": {},
   "source": [
    "### Takeaways\n",
    "\n",
    "- The mean price of properties is increasing as the number of rooms increase "
   ]
  },
  {
   "cell_type": "markdown",
   "id": "48819e3f",
   "metadata": {},
   "source": [
    "### Hypothesis\n",
    "\n",
    "**Ho: TThere is no correlation between number of rooms and property value.**<br>\n",
    "**Ha: There is a correlation between number of rooms and property value.** "
   ]
  },
  {
   "cell_type": "code",
   "execution_count": 33,
   "id": "357ee08d",
   "metadata": {},
   "outputs": [
    {
     "data": {
      "text/plain": [
       "(0.23059609601130557, 2.86852242924723e-310)"
      ]
     },
     "execution_count": 33,
     "metadata": {},
     "output_type": "execute_result"
    }
   ],
   "source": [
    "corr, p = stats.pearsonr(train.rooms_count, train.property_value)\n",
    "\n",
    "corr, p"
   ]
  },
  {
   "cell_type": "markdown",
   "id": "78ba0381",
   "metadata": {},
   "source": [
    "### Takeaways\n",
    "- there is positive correlation between total rooms in a home and property value"
   ]
  },
  {
   "cell_type": "markdown",
   "id": "80716f4e",
   "metadata": {},
   "source": [
    "## Exploration Summary\n",
    "\n",
    "* Median price is 371,456 \n",
    "* Mean property value is 518,710\n",
    "* 50% of home values are above and below 371,456 and do not exceed 2\n",
    "* The difference between Mean and Median is 147,254\n",
    "* The features used for modeling will be baths, beds, sqft and fips\n",
    "* The statistical tests provide support that there is a correlation between Property value and baths, beds, sqft\n",
    "* Statistical testing supports a significant relationship between fips code and property value \n"
   ]
  },
  {
   "cell_type": "markdown",
   "id": "e2566b98",
   "metadata": {},
   "source": [
    "## Features included in Models\n",
    "\n",
    "* The features for my models are baths, beds, sqft and fips\n",
    "* These features showed an association with property value after completing my statistical tests"
   ]
  },
  {
   "cell_type": "markdown",
   "id": "af4403dd",
   "metadata": {},
   "source": [
    "## Features NOT included in Model\n",
    "\n",
    "* Rooms count will not be included in my Model\n",
    "* There was a correlation to property value and rooms but it was not strong compared to the other features being used in the model "
   ]
  },
  {
   "cell_type": "markdown",
   "id": "7d0877bb",
   "metadata": {},
   "source": [
    "## Setting up train, validate and test variables "
   ]
  },
  {
   "cell_type": "code",
   "execution_count": 34,
   "id": "0a341e13",
   "metadata": {},
   "outputs": [],
   "source": [
    "# columns used as independent variables \n",
    "x_cols = ['beds','baths','sqft']"
   ]
  },
  {
   "cell_type": "code",
   "execution_count": 35,
   "id": "4b5875cd",
   "metadata": {},
   "outputs": [],
   "source": [
    "# assigning features to x/y train, validate and test \n",
    "X_train = train[x_cols]\n",
    "y_train = train['property_value']\n",
    "\n",
    "X_validate = validate[x_cols]\n",
    "y_validate = validate['property_value']\n",
    "\n",
    "X_test = test[x_cols]\n",
    "y_test = test['property_value']"
   ]
  },
  {
   "cell_type": "markdown",
   "id": "86eaaa89",
   "metadata": {},
   "source": [
    "# Prepare data for models\n"
   ]
  },
  {
   "cell_type": "markdown",
   "id": "0807fd6f",
   "metadata": {},
   "source": [
    "## Scale data for X train"
   ]
  },
  {
   "cell_type": "code",
   "execution_count": 36,
   "id": "f8ccd2df",
   "metadata": {},
   "outputs": [],
   "source": [
    "# applying scaling to all the data splits.\n",
    "scaler = sklearn.preprocessing.RobustScaler()\n",
    "scaler.fit(X_train)\n",
    "\n",
    "\n",
    "# transforming train, validate and test datasets\n",
    "X_train_scaled = scaler.transform(X_train)\n",
    "X_validate_scaled = scaler.transform(X_validate)\n",
    "X_test_scaled = scaler.transform(X_test)\n",
    "\n"
   ]
  },
  {
   "cell_type": "code",
   "execution_count": null,
   "id": "bb6534fe",
   "metadata": {},
   "outputs": [],
   "source": []
  },
  {
   "cell_type": "code",
   "execution_count": null,
   "id": "6e5e1ef3",
   "metadata": {},
   "outputs": [],
   "source": []
  },
  {
   "cell_type": "markdown",
   "id": "f1c19cb5",
   "metadata": {},
   "source": [
    "## Baseline Model"
   ]
  },
  {
   "cell_type": "code",
   "execution_count": 37,
   "id": "9a597467",
   "metadata": {},
   "outputs": [
    {
     "name": "stdout",
     "output_type": "stream",
     "text": [
      "RMSE using Mean\n",
      "Train/In-Sample:  374068.55 \n",
      "Validate/Out-of-Sample:  387413.56\n",
      "RMSE using Median\n",
      "Train/In-Sample:  380783.0 \n",
      "Validate/Out-of-Sample:  395096.96\n"
     ]
    }
   ],
   "source": [
    "# We need y_train and y_validate to be dataframes to append the new columns with predicted values. \n",
    "y_train = pd.DataFrame(y_train)\n",
    "y_validate = pd.DataFrame(y_validate)\n",
    "\n",
    "# 1. Predict property_value_pred_mean\n",
    "prop_value_pred_mean = y_train['property_value'].mean()\n",
    "y_train['prop_value_pred_mean'] = prop_value_pred_mean\n",
    "y_validate['prop_value_pred_mean'] = prop_value_pred_mean\n",
    "\n",
    "# 2. compute prop_value_pred_median\n",
    "prop_value_pred_median = y_train['property_value'].median()\n",
    "y_train['prop_value_pred_median'] = prop_value_pred_median\n",
    "y_validate['prop_value_pred_median'] = prop_value_pred_median\n",
    "\n",
    "# 3. RMSE of prop_value_pred_mean\n",
    "rmse_train = mean_squared_error(y_train.property_value, y_train.prop_value_pred_mean)**(1/2)\n",
    "rmse_validate = mean_squared_error(y_validate.property_value, y_validate.prop_value_pred_mean)**(1/2)\n",
    "\n",
    "print(\"RMSE using Mean\\nTrain/In-Sample: \", round(rmse_train, 2), \n",
    "      \"\\nValidate/Out-of-Sample: \", round(rmse_validate, 2))\n",
    "\n",
    "# 4. RMSE of prop_value_pred_median\n",
    "rmse_train = mean_squared_error(y_train.property_value, y_train.prop_value_pred_median)**(1/2)\n",
    "rmse_validate = mean_squared_error(y_validate.property_value, y_validate.prop_value_pred_median)**(1/2)\n",
    "\n",
    "print(\"RMSE using Median\\nTrain/In-Sample: \", round(rmse_train, 2), \n",
    "      \"\\nValidate/Out-of-Sample: \", round(rmse_validate, 2))"
   ]
  },
  {
   "cell_type": "markdown",
   "id": "3ba71b17",
   "metadata": {},
   "source": [
    "## Visualizing target variable "
   ]
  },
  {
   "cell_type": "code",
   "execution_count": 38,
   "id": "bf927f53",
   "metadata": {},
   "outputs": [
    {
     "data": {
      "image/png": "[encoded data removed]",
      "text/plain": [
       "<Figure size 432x288 with 1 Axes>"
      ]
     },
     "metadata": {
      "needs_background": "light"
     },
     "output_type": "display_data"
    }
   ],
   "source": [
    "# plot to visualize actual vs predicted. \n",
    "plt.hist(y_train.property_value, color='blue', alpha=.5, label=\"Actual Property Values\")\n",
    "plt.hist(y_train.prop_value_pred_mean, bins=1, color='red', alpha=.5, rwidth=20, label=\"Predicted Property Values - Mean\")\n",
    "plt.hist(y_train.prop_value_pred_median, bins=1, color='orange', alpha=.5, rwidth=20, label=\"Predicted Property Values - Median\")\n",
    "plt.xlabel(\"Property Values\")\n",
    "plt.ylabel(\"Number of Properties\")\n",
    "plt.legend()\n",
    "plt.show()"
   ]
  },
  {
   "cell_type": "markdown",
   "id": "871055f2",
   "metadata": {},
   "source": [
    "## LinearRegression OLS "
   ]
  },
  {
   "cell_type": "code",
   "execution_count": 40,
   "id": "9f2cd7ce",
   "metadata": {
    "scrolled": false
   },
   "outputs": [
    {
     "name": "stdout",
     "output_type": "stream",
     "text": [
      "RMSE for OLS using LinearRegression\n",
      "Training/In-Sample:  344065.8617743427 \n",
      "Validation/Out-of-Sample:  356369.38726423896\n"
     ]
    },
    {
     "name": "stderr",
     "output_type": "stream",
     "text": [
      "/opt/homebrew/anaconda3/lib/python3.9/site-packages/sklearn/linear_model/_base.py:141: FutureWarning: 'normalize' was deprecated in version 1.0 and will be removed in 1.2.\n",
      "If you wish to scale the data, use Pipeline with a StandardScaler in a preprocessing stage. To reproduce the previous behavior:\n",
      "\n",
      "from sklearn.pipeline import make_pipeline\n",
      "\n",
      "model = make_pipeline(StandardScaler(with_mean=False), LinearRegression())\n",
      "\n",
      "If you wish to pass a sample_weight parameter, you need to pass it as a fit parameter to each step of the pipeline as follows:\n",
      "\n",
      "kwargs = {s[0] + '__sample_weight': sample_weight for s in model.steps}\n",
      "model.fit(X, y, **kwargs)\n",
      "\n",
      "\n",
      "  warnings.warn(\n"
     ]
    }
   ],
   "source": [
    "# create the model object\n",
    "lm = LinearRegression(normalize=True)\n",
    "\n",
    "# fit the model to our training data. We must specify the column in y_train, \n",
    "# since we have converted it to a dataframe from a series! \n",
    "lm.fit(X_train, y_train.property_value)\n",
    "\n",
    "# predict train\n",
    "y_train['property_value_pred_lm'] = lm.predict(X_train)\n",
    "\n",
    "# evaluate: rmse\n",
    "rmse_train = mean_squared_error(y_train.property_value, y_train.property_value_pred_lm)**(1/2)\n",
    "\n",
    "# predict validate\n",
    "y_validate['property_value_pred_lm'] = lm.predict(X_validate)\n",
    "\n",
    "# evaluate: rmse\n",
    "rmse_validate = mean_squared_error(y_validate.property_value, y_validate.property_value_pred_lm)**(1/2)\n",
    "\n",
    "print(\"RMSE for OLS using LinearRegression\\nTraining/In-Sample: \", rmse_train, \n",
    "      \"\\nValidation/Out-of-Sample: \", rmse_validate)"
   ]
  },
  {
   "cell_type": "markdown",
   "id": "3872adc3",
   "metadata": {},
   "source": [
    "### Takeaways \n",
    "- model performs better than baseline "
   ]
  },
  {
   "cell_type": "markdown",
   "id": "06bdfee6",
   "metadata": {},
   "source": [
    "## LassoLars - area, beds, baths"
   ]
  },
  {
   "cell_type": "code",
   "execution_count": 41,
   "id": "81f3a656",
   "metadata": {},
   "outputs": [
    {
     "name": "stdout",
     "output_type": "stream",
     "text": [
      "RMSE for Lasso + Lars\n",
      "Training/In-Sample:  344066.0761344583 \n",
      "Validation/Out-of-Sample:  356372.14646836766\n",
      "RMSE for Lasso + Lars\n",
      "Training/In-Sample:  344066.0761344583\n"
     ]
    },
    {
     "name": "stderr",
     "output_type": "stream",
     "text": [
      "/opt/homebrew/anaconda3/lib/python3.9/site-packages/sklearn/linear_model/_base.py:133: FutureWarning: The default of 'normalize' will be set to False in version 1.2 and deprecated in version 1.4.\n",
      "If you wish to scale the data, use Pipeline with a StandardScaler in a preprocessing stage. To reproduce the previous behavior:\n",
      "\n",
      "from sklearn.pipeline import make_pipeline\n",
      "\n",
      "model = make_pipeline(StandardScaler(with_mean=False), LassoLars())\n",
      "\n",
      "If you wish to pass a sample_weight parameter, you need to pass it as a fit parameter to each step of the pipeline as follows:\n",
      "\n",
      "kwargs = {s[0] + '__sample_weight': sample_weight for s in model.steps}\n",
      "model.fit(X, y, **kwargs)\n",
      "\n",
      "Set parameter alpha to: original_alpha * np.sqrt(n_samples). \n",
      "  warnings.warn(\n"
     ]
    }
   ],
   "source": [
    "# create the model object\n",
    "lars = LassoLars(alpha=1.0)\n",
    "\n",
    "# fit the model to our training data. We must specify the column in y_train, \n",
    "# since we have converted it to a dataframe from a series! \n",
    "lars.fit(X_train, y_train.property_value)\n",
    "\n",
    "# predict train\n",
    "y_train['property_value_pred_lars'] = lars.predict(X_train)\n",
    "\n",
    "# evaluate: rmse\n",
    "rmse_train = mean_squared_error(y_train.property_value, y_train.property_value_pred_lars)**(1/2)\n",
    "\n",
    "# predict validate\n",
    "y_validate['property_value_pred_lars'] = lars.predict(X_validate)\n",
    "\n",
    "# evaluate: rmse\n",
    "rmse_validate = mean_squared_error(y_validate.property_value, y_validate.property_value_pred_lars)**(1/2)\n",
    "\n",
    "print(\"RMSE for Lasso + Lars\\nTraining/In-Sample: \", rmse_train, \n",
    "      \"\\nValidation/Out-of-Sample: \", rmse_validate)\n",
    "\n",
    "print(\"RMSE for Lasso + Lars\\nTraining/In-Sample: \", rmse_train,)\n"
   ]
  },
  {
   "cell_type": "markdown",
   "id": "5a47afb5",
   "metadata": {},
   "source": [
    "### Takeaways \n",
    "- model performs better than baseline "
   ]
  },
  {
   "cell_type": "markdown",
   "id": "acf987ad",
   "metadata": {},
   "source": [
    "## TweedieRegressor(GLM) - area, beds, baths"
   ]
  },
  {
   "cell_type": "code",
   "execution_count": 42,
   "id": "6239e053",
   "metadata": {},
   "outputs": [
    {
     "name": "stdout",
     "output_type": "stream",
     "text": [
      "RMSE for GLM using Tweedie, power=1 & alpha=0\n",
      "Training/In-Sample:  374068.55130649824 \n",
      "Validation/Out-of-Sample:  387413.56477450964\n"
     ]
    },
    {
     "name": "stderr",
     "output_type": "stream",
     "text": [
      "/opt/homebrew/anaconda3/lib/python3.9/site-packages/sklearn/linear_model/_glm/link.py:90: RuntimeWarning: overflow encountered in exp\n",
      "  return np.exp(lin_pred)\n",
      "/opt/homebrew/anaconda3/lib/python3.9/site-packages/sklearn/linear_model/_glm/link.py:93: RuntimeWarning: overflow encountered in exp\n",
      "  return np.exp(lin_pred)\n",
      "/opt/homebrew/anaconda3/lib/python3.9/site-packages/sklearn/_loss/glm_distribution.py:132: RuntimeWarning: invalid value encountered in true_divide\n",
      "  return -2 * (y - y_pred) / self.unit_variance(y_pred)\n",
      "/opt/homebrew/anaconda3/lib/python3.9/site-packages/sklearn/_loss/glm_distribution.py:323: RuntimeWarning: invalid value encountered in add\n",
      "  dev = 2 * (xlogy(y, y / y_pred) - y + y_pred)\n",
      "/opt/homebrew/anaconda3/lib/python3.9/site-packages/sklearn/linear_model/_glm/glm.py:323: ConvergenceWarning: lbfgs failed to converge (status=2):\n",
      "ABNORMAL_TERMINATION_IN_LNSRCH.\n",
      "\n",
      "Increase the number of iterations (max_iter) or scale the data as shown in:\n",
      "    https://scikit-learn.org/stable/modules/preprocessing.html\n",
      "  self.n_iter_ = _check_optimize_result(\"lbfgs\", opt_res)\n"
     ]
    }
   ],
   "source": [
    "# create the model object\n",
    "glm = TweedieRegressor(power=1, alpha=0)\n",
    "\n",
    "# fit the model to our training data. We must specify the column in y_train, \n",
    "# since we have converted it to a dataframe from a series! \n",
    "glm.fit(X_train, y_train.property_value)\n",
    "\n",
    "# predict train\n",
    "y_train['property_value_pred_glm'] = glm.predict(X_train)\n",
    "\n",
    "# evaluate: rmse\n",
    "rmse_train = mean_squared_error(y_train.property_value, y_train.property_value_pred_glm)**(1/2)\n",
    "\n",
    "# predict validate\n",
    "y_validate['property_value_pred_glm'] = glm.predict(X_validate)\n",
    "\n",
    "# evaluate: rmse\n",
    "rmse_validate = mean_squared_error(y_validate.property_value, y_validate.property_value_pred_glm)**(1/2)\n",
    "\n",
    "print(\"RMSE for GLM using Tweedie, power=1 & alpha=0\\nTraining/In-Sample: \", rmse_train, \n",
    "      \"\\nValidation/Out-of-Sample: \", rmse_validate)"
   ]
  },
  {
   "cell_type": "code",
   "execution_count": null,
   "id": "dfbde168",
   "metadata": {},
   "outputs": [],
   "source": [
    "performs better than baseline "
   ]
  },
  {
   "cell_type": "markdown",
   "id": "53fba003",
   "metadata": {},
   "source": [
    "## Polynomial regression - area, beds, baths"
   ]
  },
  {
   "cell_type": "code",
   "execution_count": 43,
   "id": "36fdeab9",
   "metadata": {},
   "outputs": [],
   "source": [
    "# make the polynomial features to get a new set of features\n",
    "pf = PolynomialFeatures(degree=2)\n",
    "\n",
    "# fit and transform X_train_scaled\n",
    "X_train_degree2 = pf.fit_transform(X_train)\n",
    "\n",
    "# transform X_validate_scaled & X_test_scaled\n",
    "X_validate_degree2 = pf.transform(X_validate)\n",
    "#X_test_degree2 = pf.transform(X_test)"
   ]
  },
  {
   "cell_type": "markdown",
   "id": "bf7a9baf",
   "metadata": {},
   "source": [
    "## Linear Regression - area, beds, baths"
   ]
  },
  {
   "cell_type": "code",
   "execution_count": 44,
   "id": "c92c6bbb",
   "metadata": {},
   "outputs": [
    {
     "name": "stdout",
     "output_type": "stream",
     "text": [
      "RMSE for Polynomial Model, degrees=2\n",
      "Training/In-Sample:  341879.79414840636 \n",
      "Validation/Out-of-Sample:  355253.86344202806\n"
     ]
    },
    {
     "name": "stderr",
     "output_type": "stream",
     "text": [
      "/opt/homebrew/anaconda3/lib/python3.9/site-packages/sklearn/linear_model/_base.py:141: FutureWarning: 'normalize' was deprecated in version 1.0 and will be removed in 1.2.\n",
      "If you wish to scale the data, use Pipeline with a StandardScaler in a preprocessing stage. To reproduce the previous behavior:\n",
      "\n",
      "from sklearn.pipeline import make_pipeline\n",
      "\n",
      "model = make_pipeline(StandardScaler(with_mean=False), LinearRegression())\n",
      "\n",
      "If you wish to pass a sample_weight parameter, you need to pass it as a fit parameter to each step of the pipeline as follows:\n",
      "\n",
      "kwargs = {s[0] + '__sample_weight': sample_weight for s in model.steps}\n",
      "model.fit(X, y, **kwargs)\n",
      "\n",
      "\n",
      "  warnings.warn(\n"
     ]
    }
   ],
   "source": [
    "# create the model object\n",
    "lm2 = LinearRegression(normalize=True)\n",
    "\n",
    "# fit the model to our training data. We must specify the column in y_train, \n",
    "# since we have converted it to a dataframe from a series! \n",
    "lm2.fit(X_train_degree2, y_train.property_value)\n",
    "\n",
    "# predict train\n",
    "y_train['property_value_pred_lm2'] = lm2.predict(X_train_degree2)\n",
    "\n",
    "# evaluate: rmse\n",
    "rmse_train = mean_squared_error(y_train.property_value, y_train.property_value_pred_lm2)**(1/2)\n",
    "\n",
    "# predict validate\n",
    "y_validate['property_value_pred_lm2'] = lm2.predict(X_validate_degree2)\n",
    "\n",
    "# evaluate: rmse\n",
    "rmse_validate = mean_squared_error(y_validate.property_value, y_validate.property_value_pred_lm2)**(1/2)\n",
    "\n",
    "print(\"RMSE for Polynomial Model, degrees=2\\nTraining/In-Sample: \", rmse_train, \n",
    "      \"\\nValidation/Out-of-Sample: \", rmse_validate)"
   ]
  },
  {
   "cell_type": "code",
   "execution_count": null,
   "id": "9a222700",
   "metadata": {},
   "outputs": [],
   "source": [
    "performs better than baseline "
   ]
  },
  {
   "cell_type": "code",
   "execution_count": null,
   "id": "3f08125a",
   "metadata": {},
   "outputs": [],
   "source": []
  },
  {
   "cell_type": "code",
   "execution_count": null,
   "id": "3856ce9f",
   "metadata": {},
   "outputs": [],
   "source": []
  },
  {
   "cell_type": "markdown",
   "id": "8feb0ff4",
   "metadata": {},
   "source": [
    "### Introduction\n",
    "\n",
    "* I will use accuracy as my evaluation metric because I do not have a monetary value to associate with the churn of a customer\n",
    "* ~ 73% of customers don't churn \n",
    "* My baseline model assumes every customer does not churn and this results in an accuracy of 73%\n",
    "* Models will be evaluated on train and validate data sets \n",
    "* The model that performs the best will be evaluated on the test data"
   ]
  },
  {
   "cell_type": "markdown",
   "id": "7d0c320b",
   "metadata": {},
   "source": [
    "## Best Models"
   ]
  },
  {
   "cell_type": "markdown",
   "id": "491c0631",
   "metadata": {},
   "source": [
    "## Test Model\n",
    "* I will run my logistic regression model on my test data"
   ]
  },
  {
   "cell_type": "markdown",
   "id": "0b3e186b",
   "metadata": {},
   "source": [
    "### Modeling Wrap \n",
    "\n",
    "* I would recommend this model for production because it does not over fit the data and it performs 4% better than the baseline"
   ]
  },
  {
   "cell_type": "markdown",
   "id": "6a3ce81f",
   "metadata": {},
   "source": [
    "## Conclusion\n",
    "\n",
    "### Summary\n",
    "* 26% of customers churn \n",
    "* Statistical evidence supports an association between churn and tech support, internet service, fiber optic internet and contract type respectively \n",
    "* The drivers I used were supported by statistical tests and I believe this is why my final model was able to perform above the baseline\n",
    "* There is not an association between phone service and churn \n",
    "\n",
    "\n",
    "### Modeling Summary \n",
    "* The final model performed 4% better than the baseline\n",
    "* I would recommend this model for production because it does not over fit the data and and performed better than baseline\n",
    "\n",
    "\n",
    "### Recommendations\n",
    "* Gather qualitative and quantitative data from customer's about the performance of the fiber optic internet \n",
    "* Solicit for quantitative and qualitative data on why customer's select month to month contracts \n",
    "* Review incentives offered for each contract type. \n",
    "\n",
    "### Next Steps\n",
    "* I would like to use the financial data to determine the mean value of churn per customer\n",
    "* Look for more drivers to develop a better performing model "
   ]
  },
  {
   "cell_type": "code",
   "execution_count": null,
   "id": "0d9da803",
   "metadata": {},
   "outputs": [],
   "source": []
  },
  {
   "cell_type": "code",
   "execution_count": null,
   "id": "f405fc48",
   "metadata": {},
   "outputs": [],
   "source": []
  }
 ],
 "metadata": {
  "kernelspec": {
   "display_name": "Python 3 (ipykernel)",
   "language": "python",
   "name": "python3"
  },
  "language_info": {
   "codemirror_mode": {
    "name": "ipython",
    "version": 3
   },
   "file_extension": ".py",
   "mimetype": "text/x-python",
   "name": "python",
   "nbconvert_exporter": "python",
   "pygments_lexer": "ipython3",
   "version": "3.9.12"
  }
 },
 "nbformat": 4,
 "nbformat_minor": 5
}
